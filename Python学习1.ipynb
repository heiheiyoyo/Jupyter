{
 "cells": [
  {
   "cell_type": "markdown",
   "metadata": {},
   "source": [
    "# Python基础"
   ]
  },
  {
   "cell_type": "markdown",
   "metadata": {},
   "source": [
    "## 变量和简单数据类型"
   ]
  },
  {
   "cell_type": "code",
   "execution_count": 1,
   "metadata": {},
   "outputs": [
    {
     "name": "stdout",
     "output_type": "stream",
     "text": [
      "Hello,world\n"
     ]
    }
   ],
   "source": [
    "print(\"Hello,world\")"
   ]
  },
  {
   "cell_type": "markdown",
   "metadata": {},
   "source": [
    "### 变量"
   ]
  },
  {
   "cell_type": "code",
   "execution_count": 2,
   "metadata": {},
   "outputs": [
    {
     "name": "stdout",
     "output_type": "stream",
     "text": [
      "Hello\n"
     ]
    }
   ],
   "source": [
    "message=\"Hello\"\n",
    "print(message)"
   ]
  },
  {
   "cell_type": "markdown",
   "metadata": {},
   "source": [
    "### 字符串"
   ]
  },
  {
   "cell_type": "code",
   "execution_count": 3,
   "metadata": {},
   "outputs": [
    {
     "name": "stdout",
     "output_type": "stream",
     "text": [
      "John Smith\n",
      "JOHN SMITH\n",
      "john smith\n"
     ]
    }
   ],
   "source": [
    "name=\"John Smith\"\n",
    "print(name.title())\n",
    "print(name.upper())\n",
    "print(name.lower())"
   ]
  },
  {
   "cell_type": "code",
   "execution_count": 4,
   "metadata": {},
   "outputs": [
    {
     "name": "stdout",
     "output_type": "stream",
     "text": [
      "John Smith\n"
     ]
    }
   ],
   "source": [
    "first_name=\"John\"\n",
    "last_name=\"Smith\"\n",
    "name=first_name+\" \"+last_name\n",
    "print(name)"
   ]
  },
  {
   "cell_type": "code",
   "execution_count": 5,
   "metadata": {},
   "outputs": [
    {
     "name": "stdout",
     "output_type": "stream",
     "text": [
      "Python命名规范：\n",
      "\t*只包含字母、数字和下划线\n",
      "\t*不能包含空格\n",
      "\t*不要使用关键字\n"
     ]
    }
   ],
   "source": [
    "print(\"Python命名规范：\\n\\t*只包含字母、数字和下划线\\n\\t*不能包含空格\\n\\t*不要使用关键字\")"
   ]
  },
  {
   "cell_type": "code",
   "execution_count": 6,
   "metadata": {},
   "outputs": [
    {
     "name": "stdout",
     "output_type": "stream",
     "text": [
      " johnhello\n",
      "john hello\n",
      "johnhello\n"
     ]
    }
   ],
   "source": [
    "name = \" john \"\n",
    "hello = \"hello\"\n",
    "print(name.rstrip()+hello)\n",
    "print(name.lstrip()+hello)\n",
    "print(name.strip()+hello)"
   ]
  },
  {
   "cell_type": "markdown",
   "metadata": {},
   "source": [
    "### 数字"
   ]
  },
  {
   "cell_type": "code",
   "execution_count": 7,
   "metadata": {},
   "outputs": [
    {
     "data": {
      "text/plain": [
       "5"
      ]
     },
     "execution_count": 7,
     "metadata": {},
     "output_type": "execute_result"
    }
   ],
   "source": [
    "2+3"
   ]
  },
  {
   "cell_type": "code",
   "execution_count": 8,
   "metadata": {},
   "outputs": [
    {
     "data": {
      "text/plain": [
       "1"
      ]
     },
     "execution_count": 8,
     "metadata": {},
     "output_type": "execute_result"
    }
   ],
   "source": [
    "3-2"
   ]
  },
  {
   "cell_type": "code",
   "execution_count": 9,
   "metadata": {},
   "outputs": [
    {
     "data": {
      "text/plain": [
       "1.5"
      ]
     },
     "execution_count": 9,
     "metadata": {},
     "output_type": "execute_result"
    }
   ],
   "source": [
    "3/2"
   ]
  },
  {
   "cell_type": "code",
   "execution_count": 10,
   "metadata": {},
   "outputs": [
    {
     "data": {
      "text/plain": [
       "0.30000000000000004"
      ]
     },
     "execution_count": 10,
     "metadata": {},
     "output_type": "execute_result"
    }
   ],
   "source": [
    "# 可能不准确\n",
    "0.2+0.1"
   ]
  },
  {
   "cell_type": "markdown",
   "metadata": {},
   "source": [
    "类型转换"
   ]
  },
  {
   "cell_type": "code",
   "execution_count": 11,
   "metadata": {},
   "outputs": [
    {
     "name": "stdout",
     "output_type": "stream",
     "text": [
      "Happy 23rd Birthday\n"
     ]
    }
   ],
   "source": [
    "age=23\n",
    "print(\"Happy \"+str(age)+\"rd Birthday\")"
   ]
  },
  {
   "cell_type": "markdown",
   "metadata": {},
   "source": [
    "### 注释"
   ]
  },
  {
   "cell_type": "code",
   "execution_count": 12,
   "metadata": {},
   "outputs": [
    {
     "name": "stdout",
     "output_type": "stream",
     "text": [
      "#表示注释\n"
     ]
    }
   ],
   "source": [
    "# 用#符号表示注释\n",
    "print(\"#表示注释\")"
   ]
  },
  {
   "cell_type": "markdown",
   "metadata": {},
   "source": [
    "### Python 之禅"
   ]
  },
  {
   "cell_type": "code",
   "execution_count": 13,
   "metadata": {},
   "outputs": [
    {
     "name": "stdout",
     "output_type": "stream",
     "text": [
      "The Zen of Python, by Tim Peters\n",
      "\n",
      "Beautiful is better than ugly.\n",
      "Explicit is better than implicit.\n",
      "Simple is better than complex.\n",
      "Complex is better than complicated.\n",
      "Flat is better than nested.\n",
      "Sparse is better than dense.\n",
      "Readability counts.\n",
      "Special cases aren't special enough to break the rules.\n",
      "Although practicality beats purity.\n",
      "Errors should never pass silently.\n",
      "Unless explicitly silenced.\n",
      "In the face of ambiguity, refuse the temptation to guess.\n",
      "There should be one-- and preferably only one --obvious way to do it.\n",
      "Although that way may not be obvious at first unless you're Dutch.\n",
      "Now is better than never.\n",
      "Although never is often better than *right* now.\n",
      "If the implementation is hard to explain, it's a bad idea.\n",
      "If the implementation is easy to explain, it may be a good idea.\n",
      "Namespaces are one honking great idea -- let's do more of those!\n"
     ]
    }
   ],
   "source": [
    "import this"
   ]
  },
  {
   "cell_type": "markdown",
   "metadata": {},
   "source": [
    "## 列表"
   ]
  },
  {
   "cell_type": "code",
   "execution_count": 14,
   "metadata": {},
   "outputs": [
    {
     "name": "stdout",
     "output_type": "stream",
     "text": [
      "['sofa', 'computer', 'TV']\n",
      "sofa\n",
      "Computer is important.\n"
     ]
    }
   ],
   "source": [
    "myhome=[\"sofa\",\"computer\",\"TV\"]\n",
    "print(myhome)\n",
    "print(myhome[0])\n",
    "print(myhome[1].title()+\" is important.\")"
   ]
  },
  {
   "cell_type": "markdown",
   "metadata": {},
   "source": [
    "### 方法"
   ]
  },
  {
   "cell_type": "code",
   "execution_count": 15,
   "metadata": {},
   "outputs": [
    {
     "name": "stdout",
     "output_type": "stream",
     "text": [
      "['router', 'computer', 'TV']\n"
     ]
    }
   ],
   "source": [
    "myhome[0]='router'\n",
    "print(myhome)"
   ]
  },
  {
   "cell_type": "code",
   "execution_count": 16,
   "metadata": {},
   "outputs": [
    {
     "name": "stdout",
     "output_type": "stream",
     "text": [
      "['router', 'computer', 'TV', 'camera']\n"
     ]
    }
   ],
   "source": [
    "myhome.append('camera')\n",
    "print(myhome)"
   ]
  },
  {
   "cell_type": "code",
   "execution_count": 17,
   "metadata": {},
   "outputs": [
    {
     "name": "stdout",
     "output_type": "stream",
     "text": [
      "['router', 'laptop', 'computer', 'TV', 'camera']\n"
     ]
    }
   ],
   "source": [
    "myhome.insert(1,\"laptop\")\n",
    "print(myhome)"
   ]
  },
  {
   "cell_type": "markdown",
   "metadata": {},
   "source": [
    "删除元素"
   ]
  },
  {
   "cell_type": "code",
   "execution_count": 18,
   "metadata": {},
   "outputs": [
    {
     "name": "stdout",
     "output_type": "stream",
     "text": [
      "['router', 'laptop', 'TV', 'camera']\n"
     ]
    }
   ],
   "source": [
    "del myhome[2]\n",
    "print(myhome)"
   ]
  },
  {
   "cell_type": "code",
   "execution_count": 19,
   "metadata": {},
   "outputs": [
    {
     "name": "stdout",
     "output_type": "stream",
     "text": [
      "['router', 'laptop', 'TV']\n"
     ]
    }
   ],
   "source": [
    "myhome.pop()\n",
    "print(myhome)"
   ]
  },
  {
   "cell_type": "code",
   "execution_count": 20,
   "metadata": {},
   "outputs": [
    {
     "name": "stdout",
     "output_type": "stream",
     "text": [
      "['router', 'TV']\n"
     ]
    }
   ],
   "source": [
    "myhome.pop(1)\n",
    "print(myhome)"
   ]
  },
  {
   "cell_type": "markdown",
   "metadata": {},
   "source": [
    "按值删除"
   ]
  },
  {
   "cell_type": "code",
   "execution_count": 21,
   "metadata": {},
   "outputs": [
    {
     "name": "stdout",
     "output_type": "stream",
     "text": [
      "['minite', 'second']\n"
     ]
    }
   ],
   "source": [
    "time=[\"day\",\"minite\",\"second\"]\n",
    "time.remove(\"day\")\n",
    "print(time)"
   ]
  },
  {
   "cell_type": "markdown",
   "metadata": {},
   "source": [
    "### 组织列表"
   ]
  },
  {
   "cell_type": "code",
   "execution_count": 22,
   "metadata": {},
   "outputs": [
    {
     "name": "stdout",
     "output_type": "stream",
     "text": [
      "['TV', 'router']\n"
     ]
    }
   ],
   "source": [
    "myhome.sort()\n",
    "print(myhome)"
   ]
  },
  {
   "cell_type": "code",
   "execution_count": 23,
   "metadata": {},
   "outputs": [
    {
     "name": "stdout",
     "output_type": "stream",
     "text": [
      "['a', 'b', 'c', 'd', 'e']\n",
      "['e', 'd', 'c', 'b', 'a']\n"
     ]
    }
   ],
   "source": [
    "alphabet=['a','b','c','d','e']\n",
    "alphabet.sort()\n",
    "print(alphabet)\n",
    "alphabet.sort(reverse=True)\n",
    "print(alphabet)"
   ]
  },
  {
   "cell_type": "markdown",
   "metadata": {},
   "source": [
    "临时排列"
   ]
  },
  {
   "cell_type": "code",
   "execution_count": 24,
   "metadata": {},
   "outputs": [
    {
     "name": "stdout",
     "output_type": "stream",
     "text": [
      "['3', 'a', 'b', 'e', 'r']\n",
      "['3', 'a', 'e', 'r', 'b']\n"
     ]
    }
   ],
   "source": [
    "test=['3','a','e','r','b']\n",
    "print(sorted(test))\n",
    "print(test)"
   ]
  },
  {
   "cell_type": "markdown",
   "metadata": {},
   "source": [
    "反转列表"
   ]
  },
  {
   "cell_type": "code",
   "execution_count": 25,
   "metadata": {},
   "outputs": [
    {
     "name": "stdout",
     "output_type": "stream",
     "text": [
      "['b', 'r', 'e', 'a', '3']\n"
     ]
    }
   ],
   "source": [
    "test.reverse()\n",
    "print(test)"
   ]
  },
  {
   "cell_type": "markdown",
   "metadata": {},
   "source": [
    "取得长度"
   ]
  },
  {
   "cell_type": "code",
   "execution_count": 26,
   "metadata": {},
   "outputs": [
    {
     "name": "stdout",
     "output_type": "stream",
     "text": [
      "5\n"
     ]
    }
   ],
   "source": [
    "print(len(test))"
   ]
  },
  {
   "cell_type": "markdown",
   "metadata": {},
   "source": [
    "## 操作列表"
   ]
  },
  {
   "cell_type": "markdown",
   "metadata": {},
   "source": [
    "### 遍历"
   ]
  },
  {
   "cell_type": "code",
   "execution_count": 27,
   "metadata": {},
   "outputs": [
    {
     "name": "stdout",
     "output_type": "stream",
     "text": [
      "alice\n",
      "david\n",
      "carolina\n"
     ]
    }
   ],
   "source": [
    "magicians=['alice','david','carolina']\n",
    "for magician in magicians:\n",
    "    print(magician)"
   ]
  },
  {
   "cell_type": "markdown",
   "metadata": {},
   "source": [
    "### 注意缩进"
   ]
  },
  {
   "cell_type": "code",
   "execution_count": 28,
   "metadata": {},
   "outputs": [
    {
     "name": "stdout",
     "output_type": "stream",
     "text": [
      "Hello, Alice\n",
      "Hello, David\n",
      "Hello, Carolina\n",
      "Thank you!\n"
     ]
    }
   ],
   "source": [
    "for magician in magicians:\n",
    "    print(\"Hello, \"+magician.title())\n",
    "print(\"Thank you!\")"
   ]
  },
  {
   "cell_type": "markdown",
   "metadata": {},
   "source": [
    ":冒号表示循环\n",
    "缩进表示循环语句"
   ]
  },
  {
   "cell_type": "markdown",
   "metadata": {},
   "source": [
    "### 创建数值列表"
   ]
  },
  {
   "cell_type": "code",
   "execution_count": 29,
   "metadata": {},
   "outputs": [
    {
     "name": "stdout",
     "output_type": "stream",
     "text": [
      "3\n",
      "4\n",
      "5\n",
      "6\n",
      "7\n"
     ]
    }
   ],
   "source": [
    "for a in range(3,8):\n",
    "    print(a)\n"
   ]
  },
  {
   "cell_type": "code",
   "execution_count": 30,
   "metadata": {},
   "outputs": [
    {
     "name": "stdout",
     "output_type": "stream",
     "text": [
      "[5, 6, 7, 8]\n"
     ]
    }
   ],
   "source": [
    "# 将range转换为列表\n",
    "print(list(range(5,9)))"
   ]
  },
  {
   "cell_type": "code",
   "execution_count": 31,
   "metadata": {},
   "outputs": [
    {
     "data": {
      "text/plain": [
       "216"
      ]
     },
     "execution_count": 31,
     "metadata": {},
     "output_type": "execute_result"
    }
   ],
   "source": [
    "# **表示乘方\n",
    "6**3"
   ]
  },
  {
   "cell_type": "code",
   "execution_count": 32,
   "metadata": {},
   "outputs": [
    {
     "name": "stdout",
     "output_type": "stream",
     "text": [
      "[1, 4, 9, 16, 25, 36, 49, 64, 81, 100]\n"
     ]
    }
   ],
   "source": [
    "squares=[]\n",
    "for value in range(1,11):\n",
    "    squares.append(value**2)\n",
    "print(squares)"
   ]
  },
  {
   "cell_type": "code",
   "execution_count": 33,
   "metadata": {},
   "outputs": [
    {
     "name": "stdout",
     "output_type": "stream",
     "text": [
      "1\n",
      "4\n",
      "9\n",
      "16\n",
      "25\n",
      "36\n",
      "49\n",
      "64\n",
      "81\n",
      "100\n"
     ]
    }
   ],
   "source": [
    "for i in range(0,10):\n",
    "    print(squares[i])"
   ]
  },
  {
   "cell_type": "code",
   "execution_count": 34,
   "metadata": {},
   "outputs": [
    {
     "name": "stdout",
     "output_type": "stream",
     "text": [
      "100\n",
      "1\n",
      "385\n"
     ]
    }
   ],
   "source": [
    "# 找到最大值\n",
    "print(max(squares))\n",
    "# 找到最小值\n",
    "print(min(squares))\n",
    "# 求和\n",
    "print(sum(squares))"
   ]
  },
  {
   "cell_type": "markdown",
   "metadata": {},
   "source": [
    "### 切片"
   ]
  },
  {
   "cell_type": "code",
   "execution_count": 35,
   "metadata": {
    "scrolled": true
   },
   "outputs": [
    {
     "name": "stdout",
     "output_type": "stream",
     "text": [
      "[1, 8, 27, 64, 125, 216, 343, 512, 729, 1000]\n",
      "[1, 8, 27]\n",
      "[1, 8, 27]\n",
      "[64]\n",
      "[512, 729, 1000]\n"
     ]
    }
   ],
   "source": [
    "a=[]\n",
    "for i in range(1,11):\n",
    "    a.append(i**3)\n",
    "print(a)\n",
    "print(a[0:3])\n",
    "print(a[:3])#自动从头开始\n",
    "print(a[3:4])\n",
    "print(a[-3:])#打印最后三个"
   ]
  },
  {
   "cell_type": "markdown",
   "metadata": {},
   "source": [
    "复制列表"
   ]
  },
  {
   "cell_type": "code",
   "execution_count": 36,
   "metadata": {},
   "outputs": [
    {
     "name": "stdout",
     "output_type": "stream",
     "text": [
      "[1, 8, 27, 64, 125, 216, 343, 512, 729, 1000]\n",
      "[0, 8, 27, 64, 125, 216, 343, 512, 729, 1000]\n"
     ]
    }
   ],
   "source": [
    "b=a # 不是复制，而是引用\n",
    "print(b)\n",
    "b[0]=0\n",
    "print(a)"
   ]
  },
  {
   "cell_type": "code",
   "execution_count": 37,
   "metadata": {},
   "outputs": [
    {
     "name": "stdout",
     "output_type": "stream",
     "text": [
      "[0, 8, 27, 64, 125, 216, 343, 512, 729, 1000]\n",
      "[1, 8, 27, 64, 125, 216, 343, 512, 729, 1000]\n"
     ]
    }
   ],
   "source": [
    "b=a[:]# 正确的复制\n",
    "b[0]=1\n",
    "print(a)\n",
    "print(b)"
   ]
  },
  {
   "cell_type": "markdown",
   "metadata": {},
   "source": [
    "**正确的复制方法：** list2=list1[:]"
   ]
  },
  {
   "cell_type": "markdown",
   "metadata": {},
   "source": [
    "### 元组"
   ]
  },
  {
   "cell_type": "markdown",
   "metadata": {},
   "source": [
    "不可变的列表为元组"
   ]
  },
  {
   "cell_type": "code",
   "execution_count": 38,
   "metadata": {},
   "outputs": [
    {
     "name": "stdout",
     "output_type": "stream",
     "text": [
      "(6, 9)\n"
     ]
    }
   ],
   "source": [
    "dimensions=(6,9)\n",
    "print(dimensions)"
   ]
  },
  {
   "cell_type": "markdown",
   "metadata": {},
   "source": [
    "元组同样可以遍历"
   ]
  },
  {
   "cell_type": "code",
   "execution_count": 39,
   "metadata": {},
   "outputs": [
    {
     "name": "stdout",
     "output_type": "stream",
     "text": [
      "6\n",
      "9\n"
     ]
    }
   ],
   "source": [
    "for i in dimensions:\n",
    "    print(i)"
   ]
  },
  {
   "cell_type": "markdown",
   "metadata": {},
   "source": [
    "元组的元素不可改变，但变量可以重新赋值"
   ]
  },
  {
   "cell_type": "code",
   "execution_count": 40,
   "metadata": {
    "scrolled": false
   },
   "outputs": [
    {
     "name": "stdout",
     "output_type": "stream",
     "text": [
      "(1, 2, 3)\n",
      "(2, 3, 4)\n"
     ]
    }
   ],
   "source": [
    "a=(1,2,3)\n",
    "#a[0]=1\n",
    "#TypeError: 'tuple' object does not support item assignment\n",
    "print(a)\n",
    "a=(2,3,4)\n",
    "print(a)"
   ]
  },
  {
   "cell_type": "markdown",
   "metadata": {},
   "source": [
    "## if语句"
   ]
  },
  {
   "cell_type": "code",
   "execution_count": 41,
   "metadata": {},
   "outputs": [
    {
     "name": "stdout",
     "output_type": "stream",
     "text": [
      "You Are Not John\n"
     ]
    }
   ],
   "source": [
    "name = \"tom\"\n",
    "if name ==\"john\":\n",
    "    print(\"you are john\".title())\n",
    "else:\n",
    "    print(\"you are not john\".title())\n",
    "        "
   ]
  },
  {
   "cell_type": "code",
   "execution_count": 42,
   "metadata": {},
   "outputs": [
    {
     "name": "stdout",
     "output_type": "stream",
     "text": [
      "6\n",
      "8\n",
      "7\n"
     ]
    }
   ],
   "source": [
    "b=[1,6,8,4,5,7]\n",
    "for i in b:\n",
    "    if i>5:\n",
    "        print(i)"
   ]
  },
  {
   "cell_type": "markdown",
   "metadata": {},
   "source": [
    "判断符号有\n",
    "- ==\n",
    "- !=\n",
    "- \\>\n",
    "- \\>\\=\n",
    "- \\<\n",
    "- \\<\\="
   ]
  },
  {
   "cell_type": "code",
   "execution_count": 43,
   "metadata": {},
   "outputs": [
    {
     "data": {
      "text/plain": [
       "True"
      ]
     },
     "execution_count": 43,
     "metadata": {},
     "output_type": "execute_result"
    }
   ],
   "source": [
    "3>2"
   ]
  },
  {
   "cell_type": "markdown",
   "metadata": {},
   "source": [
    "逻辑判断\n",
    "- and\n",
    "- or"
   ]
  },
  {
   "cell_type": "code",
   "execution_count": 44,
   "metadata": {},
   "outputs": [
    {
     "data": {
      "text/plain": [
       "True"
      ]
     },
     "execution_count": 44,
     "metadata": {},
     "output_type": "execute_result"
    }
   ],
   "source": [
    "age=19\n",
    "age<20 or age>30"
   ]
  },
  {
   "cell_type": "markdown",
   "metadata": {},
   "source": [
    "检查值是否在列表中"
   ]
  },
  {
   "cell_type": "code",
   "execution_count": 45,
   "metadata": {},
   "outputs": [
    {
     "data": {
      "text/plain": [
       "True"
      ]
     },
     "execution_count": 45,
     "metadata": {},
     "output_type": "execute_result"
    }
   ],
   "source": [
    "numlist=[3,6,9]\n",
    "3 in numlist"
   ]
  },
  {
   "cell_type": "code",
   "execution_count": 46,
   "metadata": {},
   "outputs": [
    {
     "data": {
      "text/plain": [
       "False"
      ]
     },
     "execution_count": 46,
     "metadata": {},
     "output_type": "execute_result"
    }
   ],
   "source": [
    "6 not in numlist"
   ]
  },
  {
   "cell_type": "markdown",
   "metadata": {},
   "source": [
    "布尔表达式"
   ]
  },
  {
   "cell_type": "code",
   "execution_count": 47,
   "metadata": {},
   "outputs": [
    {
     "name": "stdout",
     "output_type": "stream",
     "text": [
      "False\n"
     ]
    }
   ],
   "source": [
    "Window_enable = True\n",
    "print(str(not Window_enable))"
   ]
  },
  {
   "cell_type": "markdown",
   "metadata": {},
   "source": [
    "多重判断\n",
    "\n",
    "if\n",
    "\n",
    "elif\n",
    "\n",
    "else"
   ]
  },
  {
   "cell_type": "code",
   "execution_count": 48,
   "metadata": {},
   "outputs": [
    {
     "name": "stdout",
     "output_type": "stream",
     "text": [
      "You are teenager.\n"
     ]
    }
   ],
   "source": [
    "age = 15\n",
    "if age>=30:\n",
    "    print(\"You are mid-aged.\")\n",
    "elif age>18:\n",
    "    print(\"You are adult.\")\n",
    "elif age>14:\n",
    "    print(\"You are teenager.\")\n",
    "else:\n",
    "    print(\"You are so young.\")"
   ]
  },
  {
   "cell_type": "markdown",
   "metadata": {},
   "source": [
    "  if 还可以判断列表是否为空"
   ]
  },
  {
   "cell_type": "code",
   "execution_count": 49,
   "metadata": {},
   "outputs": [
    {
     "name": "stdout",
     "output_type": "stream",
     "text": [
      "表为空\n"
     ]
    }
   ],
   "source": [
    "testlist=[]\n",
    "if testlist:\n",
    "    print(\"表非空\")\n",
    "else:\n",
    "    print(\"表为空\")"
   ]
  },
  {
   "cell_type": "code",
   "execution_count": 50,
   "metadata": {},
   "outputs": [
    {
     "name": "stdout",
     "output_type": "stream",
     "text": [
      "表非空\n"
     ]
    }
   ],
   "source": [
    "testlist=[1,2]\n",
    "if testlist:\n",
    "    print(\"表非空\")\n",
    "else:\n",
    "    print(\"表为空\")"
   ]
  },
  {
   "cell_type": "code",
   "execution_count": 56,
   "metadata": {},
   "outputs": [
    {
     "name": "stdout",
     "output_type": "stream",
     "text": [
      "Tom \n",
      "You UID is 1000\n"
     ]
    }
   ],
   "source": [
    "user=input()\n",
    "if user==\"root\":\n",
    "    print(\"You UID is 0\")\n",
    "elif user.lower().strip() ==\"tom\":\n",
    "    print(\"You UID is 1000\")\n",
    "else:\n",
    "    print(\"I don't know your UID\")"
   ]
  },
  {
   "cell_type": "markdown",
   "metadata": {},
   "source": [
    "## 字典"
   ]
  },
  {
   "cell_type": "markdown",
   "metadata": {},
   "source": [
    "### 创建字典"
   ]
  },
  {
   "cell_type": "code",
   "execution_count": 2,
   "metadata": {},
   "outputs": [
    {
     "name": "stdout",
     "output_type": "stream",
     "text": [
      "500\n"
     ]
    }
   ],
   "source": [
    "car_0={'color':'green','power':500} #好像json啊\n",
    "print(car_0['power'])"
   ]
  },
  {
   "cell_type": "markdown",
   "metadata": {},
   "source": [
    "**键-值**是两个相关联的值，可以通过键获得相关的值"
   ]
  },
  {
   "cell_type": "markdown",
   "metadata": {},
   "source": [
    "### 使用字典"
   ]
  },
  {
   "cell_type": "markdown",
   "metadata": {},
   "source": [
    "修改值"
   ]
  },
  {
   "cell_type": "code",
   "execution_count": 3,
   "metadata": {},
   "outputs": [
    {
     "name": "stdout",
     "output_type": "stream",
     "text": [
      "{'color': 'blue', 'power': 500}\n"
     ]
    }
   ],
   "source": [
    "car_0={'color':'green','power':500}\n",
    "car_0['color']='blue' #通过键来修改值\n",
    "print(car_0)"
   ]
  },
  {
   "cell_type": "markdown",
   "metadata": {},
   "source": [
    "添加键-值对"
   ]
  },
  {
   "cell_type": "code",
   "execution_count": 5,
   "metadata": {},
   "outputs": [
    {
     "name": "stdout",
     "output_type": "stream",
     "text": [
      "{'color': 'black', 'power': 300}\n"
     ]
    }
   ],
   "source": [
    "car_1={} #定义一个空字典\n",
    "car_1['color']='black' #添加键-值对\n",
    "car_1['power']=300\n",
    "print(car_1)"
   ]
  },
  {
   "cell_type": "markdown",
   "metadata": {},
   "source": [
    "删除键-值对"
   ]
  },
  {
   "cell_type": "code",
   "execution_count": 6,
   "metadata": {},
   "outputs": [
    {
     "name": "stdout",
     "output_type": "stream",
     "text": [
      "{'color': 'green'}\n"
     ]
    }
   ],
   "source": [
    "car_0={'color':'green','power':500}\n",
    "del car_0['power']\n",
    "print(car_0)"
   ]
  },
  {
   "cell_type": "markdown",
   "metadata": {},
   "source": [
    "多行写法"
   ]
  },
  {
   "cell_type": "code",
   "execution_count": 7,
   "metadata": {},
   "outputs": [
    {
     "name": "stdout",
     "output_type": "stream",
     "text": [
      "{'color': 'white', 'power': 460, 'owner': 'sarah'}\n"
     ]
    }
   ],
   "source": [
    "car_0={\n",
    "    'color':'white',\n",
    "    'power':460,\n",
    "    'owner':'sarah',#可以写逗号\n",
    "}\n",
    "print(car_0)"
   ]
  },
  {
   "cell_type": "markdown",
   "metadata": {},
   "source": [
    "### 遍历字典"
   ]
  },
  {
   "cell_type": "code",
   "execution_count": 10,
   "metadata": {},
   "outputs": [
    {
     "name": "stdout",
     "output_type": "stream",
     "text": [
      "color:white\n",
      "\n",
      "power:460\n",
      "\n",
      "owner:sarah\n",
      "\n"
     ]
    }
   ],
   "source": [
    "car_0={\n",
    "    'color':'white',\n",
    "    'power':460,\n",
    "    'owner':'sarah'\n",
    "}\n",
    "for key,value in car_0.items(): # items方法返回一个键-值对列表\n",
    "    print(key+':'+str(value)+'\\n')"
   ]
  },
  {
   "cell_type": "markdown",
   "metadata": {},
   "source": [
    "遍历所有键"
   ]
  },
  {
   "cell_type": "code",
   "execution_count": 12,
   "metadata": {},
   "outputs": [
    {
     "name": "stdout",
     "output_type": "stream",
     "text": [
      "key:color\n",
      "Value:white\n",
      "\n",
      "\n",
      "key:power\n",
      "Value:460\n",
      "\n",
      "\n",
      "key:owner\n",
      "Value:sarah\n",
      "\n",
      "\n"
     ]
    }
   ],
   "source": [
    "for key in car_0.keys():\n",
    "    print(\"key:\"+key+'\\n'+'Value:'+str(car_0[key])+'\\n\\n')"
   ]
  },
  {
   "cell_type": "code",
   "execution_count": 15,
   "metadata": {},
   "outputs": [
    {
     "name": "stdout",
     "output_type": "stream",
     "text": [
      "dict_values(['white', 460, 'sarah'])\n"
     ]
    }
   ],
   "source": [
    "print(car_0.values())"
   ]
  },
  {
   "cell_type": "markdown",
   "metadata": {},
   "source": [
    "按顺序遍历所有键"
   ]
  },
  {
   "cell_type": "code",
   "execution_count": 20,
   "metadata": {},
   "outputs": [
    {
     "name": "stdout",
     "output_type": "stream",
     "text": [
      "key:color\n",
      "Value:white\n",
      "\n",
      "\n",
      "key:owner\n",
      "Value:sarah\n",
      "\n",
      "\n",
      "key:power\n",
      "Value:460\n",
      "\n",
      "\n"
     ]
    }
   ],
   "source": [
    "for key in sorted(car_0.keys()):\n",
    "    print(\"key:\"+key+'\\n'+'Value:'+str(car_0[key])+'\\n\\n')"
   ]
  },
  {
   "cell_type": "markdown",
   "metadata": {},
   "source": [
    "遍历所有值"
   ]
  },
  {
   "cell_type": "code",
   "execution_count": 2,
   "metadata": {},
   "outputs": [
    {
     "name": "stdout",
     "output_type": "stream",
     "text": [
      "white\n",
      "460\n",
      "sarah\n"
     ]
    }
   ],
   "source": [
    "car_0={\n",
    "    'color':'white',\n",
    "    'power':460,\n",
    "    'owner':'sarah'\n",
    "}\n",
    "for value in car_0.values():\n",
    "    print(str(value))"
   ]
  },
  {
   "cell_type": "code",
   "execution_count": 3,
   "metadata": {},
   "outputs": [
    {
     "name": "stdout",
     "output_type": "stream",
     "text": [
      "18\n",
      "19\n",
      "18\n",
      "19\n",
      "20\n",
      "17\n"
     ]
    }
   ],
   "source": [
    "name_age={\n",
    "    'Tom':18,\n",
    "    'John':19,\n",
    "    'Sarah':18,\n",
    "    'Jen':19,\n",
    "    'Phil':20,\n",
    "    'Edward':17,\n",
    "}\n",
    "for v in name_age.values():\n",
    "    print(v)"
   ]
  },
  {
   "cell_type": "markdown",
   "metadata": {},
   "source": [
    "可以看到输出中有许多重复的值"
   ]
  },
  {
   "cell_type": "code",
   "execution_count": 5,
   "metadata": {},
   "outputs": [
    {
     "name": "stdout",
     "output_type": "stream",
     "text": [
      "17\n",
      "18\n",
      "19\n",
      "20\n"
     ]
    }
   ],
   "source": [
    "for v in set(name_age.values()): # 创建集合\n",
    "    print(v)"
   ]
  },
  {
   "cell_type": "markdown",
   "metadata": {},
   "source": [
    "通过集合创建独一无二的元素组"
   ]
  },
  {
   "cell_type": "code",
   "execution_count": 6,
   "metadata": {},
   "outputs": [
    {
     "data": {
      "text/plain": [
       "6"
      ]
     },
     "execution_count": 6,
     "metadata": {},
     "output_type": "execute_result"
    }
   ],
   "source": [
    "len(name_age) # 获得长度"
   ]
  },
  {
   "cell_type": "markdown",
   "metadata": {},
   "source": [
    "### 嵌套"
   ]
  },
  {
   "cell_type": "code",
   "execution_count": 8,
   "metadata": {},
   "outputs": [
    {
     "name": "stdout",
     "output_type": "stream",
     "text": [
      "{'color': 'green', 'points': 5, 'speed': 'slow'}\n",
      "{'color': 'yellow', 'points': 10, 'speed': 'medium'}\n",
      "{'color': 'green', 'points': 5, 'speed': 'slow'}\n",
      "{'color': 'yellow', 'points': 10, 'speed': 'medium'}\n",
      "{'color': 'green', 'points': 5, 'speed': 'slow'}\n"
     ]
    }
   ],
   "source": [
    "aliens = []\n",
    "for i in range(0,30):\n",
    "    if i%2==0:\n",
    "        aliens.append({'color':'green','points':5,'speed':'slow'})\n",
    "    else:\n",
    "        aliens.append({'color':'yellow','points':10,'speed':'medium'})\n",
    "for alien in aliens[:5]:\n",
    "    print(alien)"
   ]
  },
  {
   "cell_type": "markdown",
   "metadata": {},
   "source": [
    "在字典中存储列表"
   ]
  },
  {
   "cell_type": "code",
   "execution_count": 9,
   "metadata": {},
   "outputs": [],
   "source": [
    "pizza = {\n",
    "    'crust':'thick',\n",
    "    'toppings':['mushrooms','extra cheese'],\n",
    "}#超级像Json"
   ]
  },
  {
   "cell_type": "markdown",
   "metadata": {},
   "source": [
    "在字典中也可以存储字典"
   ]
  },
  {
   "cell_type": "markdown",
   "metadata": {},
   "source": [
    "## 用户输入和while循环"
   ]
  },
  {
   "cell_type": "markdown",
   "metadata": {},
   "source": [
    "### input()的工作原理"
   ]
  },
  {
   "cell_type": "code",
   "execution_count": 1,
   "metadata": {},
   "outputs": [
    {
     "name": "stdout",
     "output_type": "stream",
     "text": [
      "What's your name? Input: Sarah\n",
      "Hello,Sarah\n"
     ]
    }
   ],
   "source": [
    "name=input(\"What's your name? Input: \")#参数为提示信息，注意在冒号后加一个空格\n",
    "print('Hello,'+name)"
   ]
  },
  {
   "cell_type": "markdown",
   "metadata": {},
   "source": [
    "输入一定为字符串，输入的数字需要转换"
   ]
  },
  {
   "cell_type": "code",
   "execution_count": 4,
   "metadata": {},
   "outputs": [
    {
     "name": "stdout",
     "output_type": "stream",
     "text": [
      "How old are you? 21\n",
      "You are so young\n"
     ]
    }
   ],
   "source": [
    "age=input('How old are you? ')\n",
    "age=int(age)\n",
    "if age<25:\n",
    "    print('You are so young')"
   ]
  },
  {
   "cell_type": "code",
   "execution_count": null,
   "metadata": {},
   "outputs": [],
   "source": [
    "#也可以这么写\n",
    "age=int(input('How old are you? '))\n",
    "#python2.7使用raw_input()"
   ]
  },
  {
   "cell_type": "markdown",
   "metadata": {},
   "source": [
    "### while循环"
   ]
  },
  {
   "cell_type": "code",
   "execution_count": 5,
   "metadata": {},
   "outputs": [
    {
     "name": "stdout",
     "output_type": "stream",
     "text": [
      "1\n",
      "2\n",
      "3\n",
      "4\n",
      "5\n"
     ]
    }
   ],
   "source": [
    "i=1\n",
    "while i<=5:\n",
    "    print(i)\n",
    "    i+=1"
   ]
  },
  {
   "cell_type": "markdown",
   "metadata": {},
   "source": [
    "使用标志"
   ]
  },
  {
   "cell_type": "code",
   "execution_count": 9,
   "metadata": {},
   "outputs": [
    {
     "name": "stdout",
     "output_type": "stream",
     "text": [
      "Input 'quit' to quit: no\n",
      "MENU:\n",
      "\ta\n",
      "\tb\n",
      "\tblabla\n",
      "Input 'quit' to quit: quit\n",
      "quit scussfully\n"
     ]
    }
   ],
   "source": [
    "active = True\n",
    "while active:\n",
    "    if input(\"Input 'quit' to quit: \")=='quit':\n",
    "        active = False\n",
    "    else:\n",
    "        print('MENU:\\n\\ta\\n\\tb\\n\\tblabla')\n",
    "print(\"quit scussfully\")"
   ]
  },
  {
   "cell_type": "markdown",
   "metadata": {},
   "source": [
    "使用break"
   ]
  },
  {
   "cell_type": "code",
   "execution_count": 11,
   "metadata": {},
   "outputs": [
    {
     "name": "stdout",
     "output_type": "stream",
     "text": [
      "Input 'quit' to quit: no\n",
      "MENU:\n",
      "\ta\n",
      "\tb\n",
      "\tblabla\n",
      "Input 'quit' to quit: sorry\n",
      "MENU:\n",
      "\ta\n",
      "\tb\n",
      "\tblabla\n",
      "Input 'quit' to quit: quit\n",
      "quit scussfully\n"
     ]
    }
   ],
   "source": [
    "while True:\n",
    "    if input(\"Input 'quit' to quit: \")=='quit':\n",
    "        break\n",
    "    else:\n",
    "        print('MENU:\\n\\ta\\n\\tb\\n\\tblabla')\n",
    "print(\"quit scussfully\")"
   ]
  },
  {
   "cell_type": "markdown",
   "metadata": {},
   "source": [
    "使用continue"
   ]
  },
  {
   "cell_type": "code",
   "execution_count": 12,
   "metadata": {},
   "outputs": [
    {
     "name": "stdout",
     "output_type": "stream",
     "text": [
      "1\n",
      "3\n",
      "5\n",
      "7\n",
      "9\n"
     ]
    }
   ],
   "source": [
    "i=0\n",
    "while i<10:\n",
    "    i+=1\n",
    "    if i%2==0:\n",
    "        continue\n",
    "    print(i)"
   ]
  },
  {
   "cell_type": "markdown",
   "metadata": {},
   "source": [
    "### 使用while循环来处理列表和字典"
   ]
  },
  {
   "cell_type": "markdown",
   "metadata": {},
   "source": [
    "移动元素"
   ]
  },
  {
   "cell_type": "code",
   "execution_count": 1,
   "metadata": {},
   "outputs": [
    {
     "name": "stdout",
     "output_type": "stream",
     "text": [
      "验证Candace中\n",
      "输入y通过验证\n",
      "n\n",
      "验证Brian中\n",
      "输入y通过验证\n",
      "y\n",
      "验证Alice中\n",
      "输入y通过验证\n",
      "y\n",
      "\n",
      "通过验证的用户:\n",
      "\tBrian\n",
      "\tAlice\n"
     ]
    }
   ],
   "source": [
    "#验证用户\n",
    "uu=['alice','brian','candace']\n",
    "cu=[]\n",
    "while uu:\n",
    "    nu=uu.pop()\n",
    "    print('验证'+nu.title()+'中')\n",
    "    print('输入y通过验证')\n",
    "    if input()=='y':\n",
    "        cu.append(nu)\n",
    "\n",
    "print('\\n通过验证的用户:')\n",
    "for u in cu:\n",
    "    print('\\t'+u.title())"
   ]
  },
  {
   "cell_type": "markdown",
   "metadata": {},
   "source": [
    "从列表中删除所有特定值"
   ]
  },
  {
   "cell_type": "code",
   "execution_count": 2,
   "metadata": {
    "scrolled": true
   },
   "outputs": [
    {
     "name": "stdout",
     "output_type": "stream",
     "text": [
      "['a', 'c', 'v', 'a', 'a']\n",
      "['c', 'v']\n"
     ]
    }
   ],
   "source": [
    "list1=['a','c','v','a','a']\n",
    "print(list1)\n",
    "\n",
    "while 'a' in list1:\n",
    "    list1.remove('a')\n",
    "    \n",
    "print(list1)"
   ]
  },
  {
   "cell_type": "markdown",
   "metadata": {},
   "source": [
    "使用用户输入来填充字典"
   ]
  },
  {
   "cell_type": "code",
   "execution_count": 2,
   "metadata": {},
   "outputs": [
    {
     "name": "stdout",
     "output_type": "stream",
     "text": [
      "\n",
      "你的名字： 汪灿\n",
      "你喜欢什么: 健身\n",
      "是否还有其他受调查者？ (yes/no)yes\n",
      "\n",
      "你的名字： 胡润宇\n",
      "你喜欢什么: LOL\n",
      "是否还有其他受调查者？ (yes/no)no\n",
      "\n",
      "----调查结果----\n",
      "汪灿喜欢健身。\n",
      "胡润宇喜欢LOL。\n"
     ]
    }
   ],
   "source": [
    "ans={}\n",
    "\n",
    "while True:\n",
    "    name=input(\"\\n你的名字： \")\n",
    "    likes=input(\"你喜欢什么: \")\n",
    "    \n",
    "    ans[name]=likes\n",
    "    \n",
    "    if input(\"是否还有其他受调查者？ (yes/no)\")=='no':\n",
    "        break\n",
    "\n",
    "print(\"\\n----调查结果----\")\n",
    "for name,likes in ans.items():\n",
    "    print(name+\"喜欢\"+likes+\"。\")\n"
   ]
  },
  {
   "cell_type": "markdown",
   "metadata": {},
   "source": [
    "## 函数"
   ]
  },
  {
   "cell_type": "markdown",
   "metadata": {},
   "source": [
    "### 定义函数"
   ]
  },
  {
   "cell_type": "code",
   "execution_count": 5,
   "metadata": {},
   "outputs": [
    {
     "name": "stdout",
     "output_type": "stream",
     "text": [
      "Hello\n"
     ]
    }
   ],
   "source": [
    "def print_hello(): #定义一个函数\n",
    "    \"\"\"这里写函数的使用方法\"\"\"\n",
    "    print(\"Hello\")\n",
    "\n",
    "print_hello() #调用函数"
   ]
  },
  {
   "cell_type": "code",
   "execution_count": 7,
   "metadata": {},
   "outputs": [
    {
     "name": "stdout",
     "output_type": "stream",
     "text": [
      "Hello,Tom\n"
     ]
    }
   ],
   "source": [
    "def greet(name):#name为行参\n",
    "    \"\"\"显示简单的问候语\"\"\"\n",
    "    print(\"Hello,\"+name)\n",
    "\n",
    "greet('Tom')#'Tom'为实参"
   ]
  },
  {
   "cell_type": "markdown",
   "metadata": {},
   "source": [
    "### 传递实参"
   ]
  },
  {
   "cell_type": "markdown",
   "metadata": {},
   "source": [
    "位置实参"
   ]
  },
  {
   "cell_type": "code",
   "execution_count": 12,
   "metadata": {},
   "outputs": [
    {
     "name": "stdout",
     "output_type": "stream",
     "text": [
      "243\n"
     ]
    }
   ],
   "source": [
    "def pow(n,i):\n",
    "    re=1\n",
    "    while i>0:\n",
    "        re*=n\n",
    "        i-=1\n",
    "    print(re)\n",
    "\n",
    "pow(3,5)"
   ]
  },
  {
   "cell_type": "markdown",
   "metadata": {},
   "source": [
    "关键字实参"
   ]
  },
  {
   "cell_type": "code",
   "execution_count": 14,
   "metadata": {},
   "outputs": [
    {
     "name": "stdout",
     "output_type": "stream",
     "text": [
      "Tom is 20 years old.\n",
      "Sarah is 22 years old.\n"
     ]
    }
   ],
   "source": [
    "def description(name,age):\n",
    "    print(name.title()+' is '+str(age)+' years old.')\n",
    "\n",
    "description('Tom',20)\n",
    "description(age=22,name='sarah')#关键字实参"
   ]
  },
  {
   "cell_type": "code",
   "execution_count": 16,
   "metadata": {},
   "outputs": [
    {
     "name": "stdout",
     "output_type": "stream",
     "text": [
      "I have a dog.\n",
      "My dog's name is Willie\n",
      "I have a dog.\n",
      "My dog's name is Jelly\n"
     ]
    }
   ],
   "source": [
    "def describe_pet(name,type='dog'):#设定type的默认值为dog\n",
    "    \"\"\"显示宠物的信息\"\"\"\n",
    "    print('I have a '+type+'.')\n",
    "    print('My '+type+\"'s name is \"+name.title())\n",
    "describe_pet(name='willie')\n",
    "describe_pet('jelly')"
   ]
  },
  {
   "cell_type": "markdown",
   "metadata": {},
   "source": [
    "### 返回值"
   ]
  },
  {
   "cell_type": "code",
   "execution_count": 17,
   "metadata": {},
   "outputs": [
    {
     "name": "stdout",
     "output_type": "stream",
     "text": [
      "Hello,World!\n"
     ]
    }
   ],
   "source": [
    "def strcat(str1,str2):\n",
    "    return str1+str2#使用return返回值\n",
    "\n",
    "print(strcat(\"Hello,\",\"World!\"))"
   ]
  },
  {
   "cell_type": "markdown",
   "metadata": {},
   "source": [
    "让参数变成可选"
   ]
  },
  {
   "cell_type": "code",
   "execution_count": 1,
   "metadata": {},
   "outputs": [],
   "source": [
    "def get_formatted_name(first,last,middle=''):\n",
    "    if middle:\n",
    "        full_name=first+' '+middle+' '+last\n",
    "    else:\n",
    "        full_name=first+' '+last\n",
    "    return full_name.title()"
   ]
  },
  {
   "cell_type": "markdown",
   "metadata": {},
   "source": [
    "### 传递列表"
   ]
  },
  {
   "cell_type": "code",
   "execution_count": 2,
   "metadata": {},
   "outputs": [
    {
     "name": "stdout",
     "output_type": "stream",
     "text": [
      "Hello, Hannah!\n",
      "Hello, Ty!\n",
      "Hello, Margot!\n"
     ]
    }
   ],
   "source": [
    "def greet_users(names):\n",
    "    for name in names:\n",
    "        print(\"Hello, \"+name.title()+\"!\")\n",
    "\n",
    "usernames=['hannah','ty','margot']\n",
    "greet_users(usernames)"
   ]
  },
  {
   "cell_type": "markdown",
   "metadata": {},
   "source": [
    "函数中可以修改列表"
   ]
  },
  {
   "cell_type": "code",
   "execution_count": 7,
   "metadata": {},
   "outputs": [
    {
     "name": "stdout",
     "output_type": "stream",
     "text": [
      "[1, 2]\n",
      "[3]\n"
     ]
    }
   ],
   "source": [
    "def move_list(sou,des):\n",
    "    des.append(sou.pop())\n",
    "\n",
    "a=[1,2,3]\n",
    "b=[]\n",
    "move_list(a,b)\n",
    "print(a)\n",
    "print(b)"
   ]
  },
  {
   "cell_type": "markdown",
   "metadata": {},
   "source": [
    "禁止函数修改列表"
   ]
  },
  {
   "cell_type": "code",
   "execution_count": 8,
   "metadata": {},
   "outputs": [
    {
     "name": "stdout",
     "output_type": "stream",
     "text": [
      "[1, 2, 3]\n",
      "[]\n"
     ]
    }
   ],
   "source": [
    "def move_list(sou,des):\n",
    "    des.append(sou.pop())\n",
    "\n",
    "a=[1,2,3]\n",
    "b=[]\n",
    "move_list(a[:],b[:])#通过切片阻止修改\n",
    "print(a)\n",
    "print(b)"
   ]
  },
  {
   "cell_type": "markdown",
   "metadata": {},
   "source": [
    "### 传递任意数量实参"
   ]
  },
  {
   "cell_type": "code",
   "execution_count": 9,
   "metadata": {},
   "outputs": [
    {
     "name": "stdout",
     "output_type": "stream",
     "text": [
      "('Hello', 'World', '!')\n"
     ]
    }
   ],
   "source": [
    "def foo(*para):#创建元组\n",
    "    print(para)\n",
    "\n",
    "foo('Hello','World','!')"
   ]
  },
  {
   "cell_type": "markdown",
   "metadata": {},
   "source": [
    "\\*使python创建一个元组，并将参数存入"
   ]
  },
  {
   "cell_type": "markdown",
   "metadata": {},
   "source": [
    "接受任意数量位置参数"
   ]
  },
  {
   "cell_type": "code",
   "execution_count": 8,
   "metadata": {},
   "outputs": [
    {
     "name": "stdout",
     "output_type": "stream",
     "text": [
      "你好,我是tom，年龄为21\n"
     ]
    }
   ],
   "source": [
    "def printf(str1,*rep):\n",
    "    \"\"\"将字符串中的{0},{1}等依次替换\"\"\"\n",
    "    for i in range(0,len(rep)):\n",
    "        str1=str1.replace('{'+str(i)+'}',str(rep[i]))\n",
    "    print(str1)\n",
    "\n",
    "printf(\"你好,我是{0}，年龄为{1}\",\"tom\",21)"
   ]
  },
  {
   "cell_type": "markdown",
   "metadata": {},
   "source": [
    "接受任意数量关键字参数"
   ]
  },
  {
   "cell_type": "code",
   "execution_count": 10,
   "metadata": {},
   "outputs": [
    {
     "name": "stdout",
     "output_type": "stream",
     "text": [
      "{'age': 18, 'location': '武汉', 'name': 'Tom'}\n"
     ]
    }
   ],
   "source": [
    "def print_message(name,**info):#创建字典\n",
    "    message=info\n",
    "    message['name']=name\n",
    "    print(message)\n",
    "\n",
    "print_message('Tom',age=18, location='武汉')\n"
   ]
  },
  {
   "cell_type": "markdown",
   "metadata": {},
   "source": [
    "### 将函数存储在模块中"
   ]
  },
  {
   "cell_type": "code",
   "execution_count": 12,
   "metadata": {},
   "outputs": [
    {
     "name": "stdout",
     "output_type": "stream",
     "text": [
      "Sum = \n",
      " [[ 6.  8.]\n",
      " [10. 12.]]\n",
      "Difference = \n",
      " [[-4. -4.]\n",
      " [-4. -4.]]\n",
      "Product = \n",
      " [[ 5. 12.]\n",
      " [21. 32.]]\n",
      "Quotient = \n",
      " [[0.2        0.33333333]\n",
      " [0.42857143 0.5       ]]\n"
     ]
    }
   ],
   "source": [
    "import numpy as np #直接导入模块\n",
    "a = np.array([[1.0, 2.0], [3.0, 4.0]]) \n",
    "b = np.array([[5.0, 6.0], [7.0, 8.0]]) \n",
    "sum = a + b \n",
    "difference = a - b \n",
    "product = a * b \n",
    "quotient = a / b \n",
    "print (\"Sum = \\n\", sum)\n",
    "print (\"Difference = \\n\", difference )\n",
    "print (\"Product = \\n\", product )\n",
    "print (\"Quotient = \\n\", quotient )"
   ]
  }
 ],
 "metadata": {
  "kernelspec": {
   "display_name": "Python 3",
   "language": "python",
   "name": "python3"
  },
  "language_info": {
   "codemirror_mode": {
    "name": "ipython",
    "version": 3
   },
   "file_extension": ".py",
   "mimetype": "text/x-python",
   "name": "python",
   "nbconvert_exporter": "python",
   "pygments_lexer": "ipython3",
   "version": "3.7.3"
  }
 },
 "nbformat": 4,
 "nbformat_minor": 2
}
