{
 "cells": [
  {
   "cell_type": "markdown",
   "metadata": {},
   "source": [
    "# Python基础"
   ]
  },
  {
   "cell_type": "markdown",
   "metadata": {},
   "source": [
    "## 变量和简单数据类型"
   ]
  },
  {
   "cell_type": "code",
   "execution_count": 1,
   "metadata": {},
   "outputs": [
    {
     "name": "stdout",
     "output_type": "stream",
     "text": [
      "Hello,world\n"
     ]
    }
   ],
   "source": [
    "print(\"Hello,world\")"
   ]
  },
  {
   "cell_type": "markdown",
   "metadata": {},
   "source": [
    "### 变量"
   ]
  },
  {
   "cell_type": "code",
   "execution_count": 2,
   "metadata": {},
   "outputs": [
    {
     "name": "stdout",
     "output_type": "stream",
     "text": [
      "Hello\n"
     ]
    }
   ],
   "source": [
    "message=\"Hello\"\n",
    "print(message)"
   ]
  },
  {
   "cell_type": "markdown",
   "metadata": {},
   "source": [
    "### 字符串"
   ]
  },
  {
   "cell_type": "code",
   "execution_count": 3,
   "metadata": {},
   "outputs": [
    {
     "name": "stdout",
     "output_type": "stream",
     "text": [
      "John Smith\n",
      "JOHN SMITH\n",
      "john smith\n"
     ]
    }
   ],
   "source": [
    "name=\"John Smith\"\n",
    "print(name.title())\n",
    "print(name.upper())\n",
    "print(name.lower())"
   ]
  },
  {
   "cell_type": "code",
   "execution_count": 4,
   "metadata": {},
   "outputs": [
    {
     "name": "stdout",
     "output_type": "stream",
     "text": [
      "John Smith\n"
     ]
    }
   ],
   "source": [
    "first_name=\"John\"\n",
    "last_name=\"Smith\"\n",
    "name=first_name+\" \"+last_name\n",
    "print(name)"
   ]
  },
  {
   "cell_type": "code",
   "execution_count": 5,
   "metadata": {},
   "outputs": [
    {
     "name": "stdout",
     "output_type": "stream",
     "text": [
      "Python命名规范：\n",
      "\t*只包含字母、数字和下划线\n",
      "\t*不能包含空格\n",
      "\t*不要使用关键字\n"
     ]
    }
   ],
   "source": [
    "print(\"Python命名规范：\\n\\t*只包含字母、数字和下划线\\n\\t*不能包含空格\\n\\t*不要使用关键字\")"
   ]
  },
  {
   "cell_type": "code",
   "execution_count": 6,
   "metadata": {},
   "outputs": [
    {
     "name": "stdout",
     "output_type": "stream",
     "text": [
      " johnhello\n",
      "john hello\n",
      "johnhello\n"
     ]
    }
   ],
   "source": [
    "name = \" john \"\n",
    "hello = \"hello\"\n",
    "print(name.rstrip()+hello)\n",
    "print(name.lstrip()+hello)\n",
    "print(name.strip()+hello)"
   ]
  },
  {
   "cell_type": "markdown",
   "metadata": {},
   "source": [
    "### 数字"
   ]
  },
  {
   "cell_type": "code",
   "execution_count": 7,
   "metadata": {},
   "outputs": [
    {
     "data": {
      "text/plain": [
       "5"
      ]
     },
     "execution_count": 7,
     "metadata": {},
     "output_type": "execute_result"
    }
   ],
   "source": [
    "2+3"
   ]
  },
  {
   "cell_type": "code",
   "execution_count": 8,
   "metadata": {},
   "outputs": [
    {
     "data": {
      "text/plain": [
       "1"
      ]
     },
     "execution_count": 8,
     "metadata": {},
     "output_type": "execute_result"
    }
   ],
   "source": [
    "3-2"
   ]
  },
  {
   "cell_type": "code",
   "execution_count": 9,
   "metadata": {},
   "outputs": [
    {
     "data": {
      "text/plain": [
       "1.5"
      ]
     },
     "execution_count": 9,
     "metadata": {},
     "output_type": "execute_result"
    }
   ],
   "source": [
    "3/2"
   ]
  },
  {
   "cell_type": "code",
   "execution_count": 10,
   "metadata": {},
   "outputs": [
    {
     "data": {
      "text/plain": [
       "0.30000000000000004"
      ]
     },
     "execution_count": 10,
     "metadata": {},
     "output_type": "execute_result"
    }
   ],
   "source": [
    "# 可能不准确\n",
    "0.2+0.1"
   ]
  },
  {
   "cell_type": "markdown",
   "metadata": {},
   "source": [
    "类型转换"
   ]
  },
  {
   "cell_type": "code",
   "execution_count": 11,
   "metadata": {},
   "outputs": [
    {
     "name": "stdout",
     "output_type": "stream",
     "text": [
      "Happy 23rd Birthday\n"
     ]
    }
   ],
   "source": [
    "age=23\n",
    "print(\"Happy \"+str(age)+\"rd Birthday\")"
   ]
  },
  {
   "cell_type": "markdown",
   "metadata": {},
   "source": [
    "### 注释"
   ]
  },
  {
   "cell_type": "code",
   "execution_count": 12,
   "metadata": {},
   "outputs": [
    {
     "name": "stdout",
     "output_type": "stream",
     "text": [
      "#表示注释\n"
     ]
    }
   ],
   "source": [
    "# 用#符号表示注释\n",
    "print(\"#表示注释\")"
   ]
  },
  {
   "cell_type": "markdown",
   "metadata": {},
   "source": [
    "### Python 之禅"
   ]
  },
  {
   "cell_type": "code",
   "execution_count": 13,
   "metadata": {},
   "outputs": [
    {
     "name": "stdout",
     "output_type": "stream",
     "text": [
      "The Zen of Python, by Tim Peters\n",
      "\n",
      "Beautiful is better than ugly.\n",
      "Explicit is better than implicit.\n",
      "Simple is better than complex.\n",
      "Complex is better than complicated.\n",
      "Flat is better than nested.\n",
      "Sparse is better than dense.\n",
      "Readability counts.\n",
      "Special cases aren't special enough to break the rules.\n",
      "Although practicality beats purity.\n",
      "Errors should never pass silently.\n",
      "Unless explicitly silenced.\n",
      "In the face of ambiguity, refuse the temptation to guess.\n",
      "There should be one-- and preferably only one --obvious way to do it.\n",
      "Although that way may not be obvious at first unless you're Dutch.\n",
      "Now is better than never.\n",
      "Although never is often better than *right* now.\n",
      "If the implementation is hard to explain, it's a bad idea.\n",
      "If the implementation is easy to explain, it may be a good idea.\n",
      "Namespaces are one honking great idea -- let's do more of those!\n"
     ]
    }
   ],
   "source": [
    "import this"
   ]
  },
  {
   "cell_type": "markdown",
   "metadata": {},
   "source": [
    "## 列表"
   ]
  },
  {
   "cell_type": "code",
   "execution_count": 14,
   "metadata": {},
   "outputs": [
    {
     "name": "stdout",
     "output_type": "stream",
     "text": [
      "['sofa', 'computer', 'TV']\n",
      "sofa\n",
      "Computer is important.\n"
     ]
    }
   ],
   "source": [
    "myhome=[\"sofa\",\"computer\",\"TV\"]\n",
    "print(myhome)\n",
    "print(myhome[0])\n",
    "print(myhome[1].title()+\" is important.\")"
   ]
  },
  {
   "cell_type": "markdown",
   "metadata": {},
   "source": [
    "### 方法"
   ]
  },
  {
   "cell_type": "code",
   "execution_count": 15,
   "metadata": {},
   "outputs": [
    {
     "name": "stdout",
     "output_type": "stream",
     "text": [
      "['router', 'computer', 'TV']\n"
     ]
    }
   ],
   "source": [
    "myhome[0]='router'\n",
    "print(myhome)"
   ]
  },
  {
   "cell_type": "code",
   "execution_count": 16,
   "metadata": {},
   "outputs": [
    {
     "name": "stdout",
     "output_type": "stream",
     "text": [
      "['router', 'computer', 'TV', 'camera']\n"
     ]
    }
   ],
   "source": [
    "myhome.append('camera')\n",
    "print(myhome)"
   ]
  },
  {
   "cell_type": "code",
   "execution_count": 17,
   "metadata": {},
   "outputs": [
    {
     "name": "stdout",
     "output_type": "stream",
     "text": [
      "['router', 'laptop', 'computer', 'TV', 'camera']\n"
     ]
    }
   ],
   "source": [
    "myhome.insert(1,\"laptop\")\n",
    "print(myhome)"
   ]
  },
  {
   "cell_type": "markdown",
   "metadata": {},
   "source": [
    "删除元素"
   ]
  },
  {
   "cell_type": "code",
   "execution_count": 18,
   "metadata": {},
   "outputs": [
    {
     "name": "stdout",
     "output_type": "stream",
     "text": [
      "['router', 'laptop', 'TV', 'camera']\n"
     ]
    }
   ],
   "source": [
    "del myhome[2]\n",
    "print(myhome)"
   ]
  },
  {
   "cell_type": "code",
   "execution_count": 19,
   "metadata": {},
   "outputs": [
    {
     "name": "stdout",
     "output_type": "stream",
     "text": [
      "['router', 'laptop', 'TV']\n"
     ]
    }
   ],
   "source": [
    "myhome.pop()\n",
    "print(myhome)"
   ]
  },
  {
   "cell_type": "code",
   "execution_count": 20,
   "metadata": {},
   "outputs": [
    {
     "name": "stdout",
     "output_type": "stream",
     "text": [
      "['router', 'TV']\n"
     ]
    }
   ],
   "source": [
    "myhome.pop(1)\n",
    "print(myhome)"
   ]
  },
  {
   "cell_type": "markdown",
   "metadata": {},
   "source": [
    "按值删除"
   ]
  },
  {
   "cell_type": "code",
   "execution_count": 21,
   "metadata": {},
   "outputs": [
    {
     "name": "stdout",
     "output_type": "stream",
     "text": [
      "['minite', 'second']\n"
     ]
    }
   ],
   "source": [
    "time=[\"day\",\"minite\",\"second\"]\n",
    "time.remove(\"day\")\n",
    "print(time)"
   ]
  },
  {
   "cell_type": "markdown",
   "metadata": {},
   "source": [
    "### 组织列表"
   ]
  },
  {
   "cell_type": "code",
   "execution_count": 22,
   "metadata": {},
   "outputs": [
    {
     "name": "stdout",
     "output_type": "stream",
     "text": [
      "['TV', 'router']\n"
     ]
    }
   ],
   "source": [
    "myhome.sort()\n",
    "print(myhome)"
   ]
  },
  {
   "cell_type": "code",
   "execution_count": 23,
   "metadata": {},
   "outputs": [
    {
     "name": "stdout",
     "output_type": "stream",
     "text": [
      "['a', 'b', 'c', 'd', 'e']\n",
      "['e', 'd', 'c', 'b', 'a']\n"
     ]
    }
   ],
   "source": [
    "alphabet=['a','b','c','d','e']\n",
    "alphabet.sort()\n",
    "print(alphabet)\n",
    "alphabet.sort(reverse=True)\n",
    "print(alphabet)"
   ]
  },
  {
   "cell_type": "markdown",
   "metadata": {},
   "source": [
    "临时排列"
   ]
  },
  {
   "cell_type": "code",
   "execution_count": 24,
   "metadata": {},
   "outputs": [
    {
     "name": "stdout",
     "output_type": "stream",
     "text": [
      "['3', 'a', 'b', 'e', 'r']\n",
      "['3', 'a', 'e', 'r', 'b']\n"
     ]
    }
   ],
   "source": [
    "test=['3','a','e','r','b']\n",
    "print(sorted(test))\n",
    "print(test)"
   ]
  },
  {
   "cell_type": "markdown",
   "metadata": {},
   "source": [
    "反转列表"
   ]
  },
  {
   "cell_type": "code",
   "execution_count": 25,
   "metadata": {},
   "outputs": [
    {
     "name": "stdout",
     "output_type": "stream",
     "text": [
      "['b', 'r', 'e', 'a', '3']\n"
     ]
    }
   ],
   "source": [
    "test.reverse()\n",
    "print(test)"
   ]
  },
  {
   "cell_type": "markdown",
   "metadata": {},
   "source": [
    "取得长度"
   ]
  },
  {
   "cell_type": "code",
   "execution_count": 26,
   "metadata": {},
   "outputs": [
    {
     "name": "stdout",
     "output_type": "stream",
     "text": [
      "5\n"
     ]
    }
   ],
   "source": [
    "print(len(test))"
   ]
  },
  {
   "cell_type": "markdown",
   "metadata": {},
   "source": [
    "## 操作列表"
   ]
  },
  {
   "cell_type": "markdown",
   "metadata": {},
   "source": [
    "### 遍历"
   ]
  },
  {
   "cell_type": "code",
   "execution_count": 27,
   "metadata": {},
   "outputs": [
    {
     "name": "stdout",
     "output_type": "stream",
     "text": [
      "alice\n",
      "david\n",
      "carolina\n"
     ]
    }
   ],
   "source": [
    "magicians=['alice','david','carolina']\n",
    "for magician in magicians:\n",
    "    print(magician)"
   ]
  },
  {
   "cell_type": "markdown",
   "metadata": {},
   "source": [
    "### 注意缩进"
   ]
  },
  {
   "cell_type": "code",
   "execution_count": 28,
   "metadata": {},
   "outputs": [
    {
     "name": "stdout",
     "output_type": "stream",
     "text": [
      "Hello, Alice\n",
      "Hello, David\n",
      "Hello, Carolina\n",
      "Thank you!\n"
     ]
    }
   ],
   "source": [
    "for magician in magicians:\n",
    "    print(\"Hello, \"+magician.title())\n",
    "print(\"Thank you!\")"
   ]
  },
  {
   "cell_type": "markdown",
   "metadata": {},
   "source": [
    ":冒号表示循环\n",
    "缩进表示循环语句"
   ]
  },
  {
   "cell_type": "markdown",
   "metadata": {},
   "source": [
    "### 创建数值列表"
   ]
  },
  {
   "cell_type": "code",
   "execution_count": 29,
   "metadata": {},
   "outputs": [
    {
     "name": "stdout",
     "output_type": "stream",
     "text": [
      "3\n",
      "4\n",
      "5\n",
      "6\n",
      "7\n"
     ]
    }
   ],
   "source": [
    "for a in range(3,8):\n",
    "    print(a)\n"
   ]
  },
  {
   "cell_type": "code",
   "execution_count": 30,
   "metadata": {},
   "outputs": [
    {
     "name": "stdout",
     "output_type": "stream",
     "text": [
      "[5, 6, 7, 8]\n"
     ]
    }
   ],
   "source": [
    "# 将range转换为列表\n",
    "print(list(range(5,9)))"
   ]
  },
  {
   "cell_type": "code",
   "execution_count": 31,
   "metadata": {},
   "outputs": [
    {
     "data": {
      "text/plain": [
       "216"
      ]
     },
     "execution_count": 31,
     "metadata": {},
     "output_type": "execute_result"
    }
   ],
   "source": [
    "# **表示乘方\n",
    "6**3"
   ]
  },
  {
   "cell_type": "code",
   "execution_count": 32,
   "metadata": {},
   "outputs": [
    {
     "name": "stdout",
     "output_type": "stream",
     "text": [
      "[1, 4, 9, 16, 25, 36, 49, 64, 81, 100]\n"
     ]
    }
   ],
   "source": [
    "squares=[]\n",
    "for value in range(1,11):\n",
    "    squares.append(value**2)\n",
    "print(squares)"
   ]
  },
  {
   "cell_type": "code",
   "execution_count": 33,
   "metadata": {},
   "outputs": [
    {
     "name": "stdout",
     "output_type": "stream",
     "text": [
      "1\n",
      "4\n",
      "9\n",
      "16\n",
      "25\n",
      "36\n",
      "49\n",
      "64\n",
      "81\n",
      "100\n"
     ]
    }
   ],
   "source": [
    "for i in range(0,10):\n",
    "    print(squares[i])"
   ]
  },
  {
   "cell_type": "code",
   "execution_count": 34,
   "metadata": {},
   "outputs": [
    {
     "name": "stdout",
     "output_type": "stream",
     "text": [
      "100\n",
      "1\n",
      "385\n"
     ]
    }
   ],
   "source": [
    "# 找到最大值\n",
    "print(max(squares))\n",
    "# 找到最小值\n",
    "print(min(squares))\n",
    "# 求和\n",
    "print(sum(squares))"
   ]
  },
  {
   "cell_type": "markdown",
   "metadata": {},
   "source": [
    "### 切片"
   ]
  },
  {
   "cell_type": "code",
   "execution_count": 35,
   "metadata": {
    "scrolled": true
   },
   "outputs": [
    {
     "name": "stdout",
     "output_type": "stream",
     "text": [
      "[1, 8, 27, 64, 125, 216, 343, 512, 729, 1000]\n",
      "[1, 8, 27]\n",
      "[1, 8, 27]\n",
      "[64]\n",
      "[512, 729, 1000]\n"
     ]
    }
   ],
   "source": [
    "a=[]\n",
    "for i in range(1,11):\n",
    "    a.append(i**3)\n",
    "print(a)\n",
    "print(a[0:3])\n",
    "print(a[:3])#自动从头开始\n",
    "print(a[3:4])\n",
    "print(a[-3:])#打印最后三个"
   ]
  },
  {
   "cell_type": "markdown",
   "metadata": {},
   "source": [
    "复制列表"
   ]
  },
  {
   "cell_type": "code",
   "execution_count": 36,
   "metadata": {},
   "outputs": [
    {
     "name": "stdout",
     "output_type": "stream",
     "text": [
      "[1, 8, 27, 64, 125, 216, 343, 512, 729, 1000]\n",
      "[0, 8, 27, 64, 125, 216, 343, 512, 729, 1000]\n"
     ]
    }
   ],
   "source": [
    "b=a # 不是复制，而是引用\n",
    "print(b)\n",
    "b[0]=0\n",
    "print(a)"
   ]
  },
  {
   "cell_type": "code",
   "execution_count": 37,
   "metadata": {},
   "outputs": [
    {
     "name": "stdout",
     "output_type": "stream",
     "text": [
      "[0, 8, 27, 64, 125, 216, 343, 512, 729, 1000]\n",
      "[1, 8, 27, 64, 125, 216, 343, 512, 729, 1000]\n"
     ]
    }
   ],
   "source": [
    "b=a[:]# 正确的复制\n",
    "b[0]=1\n",
    "print(a)\n",
    "print(b)"
   ]
  },
  {
   "cell_type": "markdown",
   "metadata": {},
   "source": [
    "**正确的复制方法：** list2=list1[:]"
   ]
  },
  {
   "cell_type": "markdown",
   "metadata": {},
   "source": [
    "### 元组"
   ]
  },
  {
   "cell_type": "markdown",
   "metadata": {},
   "source": [
    "不可变的列表为元组"
   ]
  },
  {
   "cell_type": "code",
   "execution_count": 38,
   "metadata": {},
   "outputs": [
    {
     "name": "stdout",
     "output_type": "stream",
     "text": [
      "(6, 9)\n"
     ]
    }
   ],
   "source": [
    "dimensions=(6,9)\n",
    "print(dimensions)"
   ]
  },
  {
   "cell_type": "markdown",
   "metadata": {},
   "source": [
    "元组同样可以遍历"
   ]
  },
  {
   "cell_type": "code",
   "execution_count": 39,
   "metadata": {},
   "outputs": [
    {
     "name": "stdout",
     "output_type": "stream",
     "text": [
      "6\n",
      "9\n"
     ]
    }
   ],
   "source": [
    "for i in dimensions:\n",
    "    print(i)"
   ]
  },
  {
   "cell_type": "markdown",
   "metadata": {},
   "source": [
    "元组的元素不可改变，但变量可以重新赋值"
   ]
  },
  {
   "cell_type": "code",
   "execution_count": 40,
   "metadata": {
    "scrolled": false
   },
   "outputs": [
    {
     "name": "stdout",
     "output_type": "stream",
     "text": [
      "(1, 2, 3)\n",
      "(2, 3, 4)\n"
     ]
    }
   ],
   "source": [
    "a=(1,2,3)\n",
    "#a[0]=1\n",
    "#TypeError: 'tuple' object does not support item assignment\n",
    "print(a)\n",
    "a=(2,3,4)\n",
    "print(a)"
   ]
  },
  {
   "cell_type": "markdown",
   "metadata": {},
   "source": [
    "## if语句"
   ]
  },
  {
   "cell_type": "code",
   "execution_count": 41,
   "metadata": {},
   "outputs": [
    {
     "name": "stdout",
     "output_type": "stream",
     "text": [
      "You Are Not John\n"
     ]
    }
   ],
   "source": [
    "name = \"tom\"\n",
    "if name ==\"john\":\n",
    "    print(\"you are john\".title())\n",
    "else:\n",
    "    print(\"you are not john\".title())\n",
    "        "
   ]
  },
  {
   "cell_type": "code",
   "execution_count": 42,
   "metadata": {},
   "outputs": [
    {
     "name": "stdout",
     "output_type": "stream",
     "text": [
      "6\n",
      "8\n",
      "7\n"
     ]
    }
   ],
   "source": [
    "b=[1,6,8,4,5,7]\n",
    "for i in b:\n",
    "    if i>5:\n",
    "        print(i)"
   ]
  },
  {
   "cell_type": "markdown",
   "metadata": {},
   "source": [
    "判断符号有\n",
    "- ==\n",
    "- !=\n",
    "- \\>\n",
    "- \\>\\=\n",
    "- \\<\n",
    "- \\<\\="
   ]
  },
  {
   "cell_type": "code",
   "execution_count": 43,
   "metadata": {},
   "outputs": [
    {
     "data": {
      "text/plain": [
       "True"
      ]
     },
     "execution_count": 43,
     "metadata": {},
     "output_type": "execute_result"
    }
   ],
   "source": [
    "3>2"
   ]
  },
  {
   "cell_type": "markdown",
   "metadata": {},
   "source": [
    "逻辑判断\n",
    "- and\n",
    "- or"
   ]
  },
  {
   "cell_type": "code",
   "execution_count": 44,
   "metadata": {},
   "outputs": [
    {
     "data": {
      "text/plain": [
       "True"
      ]
     },
     "execution_count": 44,
     "metadata": {},
     "output_type": "execute_result"
    }
   ],
   "source": [
    "age=19\n",
    "age<20 or age>30"
   ]
  },
  {
   "cell_type": "markdown",
   "metadata": {},
   "source": [
    "检查值是否在列表中"
   ]
  },
  {
   "cell_type": "code",
   "execution_count": 45,
   "metadata": {},
   "outputs": [
    {
     "data": {
      "text/plain": [
       "True"
      ]
     },
     "execution_count": 45,
     "metadata": {},
     "output_type": "execute_result"
    }
   ],
   "source": [
    "numlist=[3,6,9]\n",
    "3 in numlist"
   ]
  },
  {
   "cell_type": "code",
   "execution_count": 46,
   "metadata": {},
   "outputs": [
    {
     "data": {
      "text/plain": [
       "False"
      ]
     },
     "execution_count": 46,
     "metadata": {},
     "output_type": "execute_result"
    }
   ],
   "source": [
    "6 not in numlist"
   ]
  },
  {
   "cell_type": "markdown",
   "metadata": {},
   "source": [
    "布尔表达式"
   ]
  },
  {
   "cell_type": "code",
   "execution_count": 47,
   "metadata": {},
   "outputs": [
    {
     "name": "stdout",
     "output_type": "stream",
     "text": [
      "False\n"
     ]
    }
   ],
   "source": [
    "Window_enable = True\n",
    "print(str(not Window_enable))"
   ]
  },
  {
   "cell_type": "markdown",
   "metadata": {},
   "source": [
    "多重判断\n",
    "\n",
    "if\n",
    "\n",
    "elif\n",
    "\n",
    "else"
   ]
  },
  {
   "cell_type": "code",
   "execution_count": 48,
   "metadata": {},
   "outputs": [
    {
     "name": "stdout",
     "output_type": "stream",
     "text": [
      "You are teenager.\n"
     ]
    }
   ],
   "source": [
    "age = 15\n",
    "if age>=30:\n",
    "    print(\"You are mid-aged.\")\n",
    "elif age>18:\n",
    "    print(\"You are adult.\")\n",
    "elif age>14:\n",
    "    print(\"You are teenager.\")\n",
    "else:\n",
    "    print(\"You are so young.\")"
   ]
  },
  {
   "cell_type": "markdown",
   "metadata": {},
   "source": [
    "  if 还可以判断列表是否为空"
   ]
  },
  {
   "cell_type": "code",
   "execution_count": 49,
   "metadata": {},
   "outputs": [
    {
     "name": "stdout",
     "output_type": "stream",
     "text": [
      "表为空\n"
     ]
    }
   ],
   "source": [
    "testlist=[]\n",
    "if testlist:\n",
    "    print(\"表非空\")\n",
    "else:\n",
    "    print(\"表为空\")"
   ]
  },
  {
   "cell_type": "code",
   "execution_count": 50,
   "metadata": {},
   "outputs": [
    {
     "name": "stdout",
     "output_type": "stream",
     "text": [
      "表非空\n"
     ]
    }
   ],
   "source": [
    "testlist=[1,2]\n",
    "if testlist:\n",
    "    print(\"表非空\")\n",
    "else:\n",
    "    print(\"表为空\")"
   ]
  },
  {
   "cell_type": "code",
   "execution_count": 56,
   "metadata": {},
   "outputs": [
    {
     "name": "stdout",
     "output_type": "stream",
     "text": [
      "Tom \n",
      "You UID is 1000\n"
     ]
    }
   ],
   "source": [
    "user=input()\n",
    "if user==\"root\":\n",
    "    print(\"You UID is 0\")\n",
    "elif user.lower().strip() ==\"tom\":\n",
    "    print(\"You UID is 1000\")\n",
    "else:\n",
    "    print(\"I don't know your UID\")"
   ]
  },
  {
   "cell_type": "markdown",
   "metadata": {},
   "source": [
    "## 字典"
   ]
  },
  {
   "cell_type": "markdown",
   "metadata": {},
   "source": [
    "### 创建字典"
   ]
  },
  {
   "cell_type": "code",
   "execution_count": 2,
   "metadata": {},
   "outputs": [
    {
     "name": "stdout",
     "output_type": "stream",
     "text": [
      "500\n"
     ]
    }
   ],
   "source": [
    "car_0={'color':'green','power':500} #好像json啊\n",
    "print(car_0['power'])"
   ]
  },
  {
   "cell_type": "markdown",
   "metadata": {},
   "source": [
    "**键-值**是两个相关联的值，可以通过键获得相关的值"
   ]
  },
  {
   "cell_type": "markdown",
   "metadata": {},
   "source": [
    "### 使用字典"
   ]
  },
  {
   "cell_type": "markdown",
   "metadata": {},
   "source": [
    "修改值"
   ]
  },
  {
   "cell_type": "code",
   "execution_count": 3,
   "metadata": {},
   "outputs": [
    {
     "name": "stdout",
     "output_type": "stream",
     "text": [
      "{'color': 'blue', 'power': 500}\n"
     ]
    }
   ],
   "source": [
    "car_0={'color':'green','power':500}\n",
    "car_0['color']='blue' #通过键来修改值\n",
    "print(car_0)"
   ]
  },
  {
   "cell_type": "markdown",
   "metadata": {},
   "source": [
    "添加键-值对"
   ]
  },
  {
   "cell_type": "code",
   "execution_count": 5,
   "metadata": {},
   "outputs": [
    {
     "name": "stdout",
     "output_type": "stream",
     "text": [
      "{'color': 'black', 'power': 300}\n"
     ]
    }
   ],
   "source": [
    "car_1={} #定义一个空字典\n",
    "car_1['color']='black' #添加键-值对\n",
    "car_1['power']=300\n",
    "print(car_1)"
   ]
  },
  {
   "cell_type": "markdown",
   "metadata": {},
   "source": [
    "删除键-值对"
   ]
  },
  {
   "cell_type": "code",
   "execution_count": 6,
   "metadata": {},
   "outputs": [
    {
     "name": "stdout",
     "output_type": "stream",
     "text": [
      "{'color': 'green'}\n"
     ]
    }
   ],
   "source": [
    "car_0={'color':'green','power':500}\n",
    "del car_0['power']\n",
    "print(car_0)"
   ]
  },
  {
   "cell_type": "markdown",
   "metadata": {},
   "source": [
    "多行写法"
   ]
  },
  {
   "cell_type": "code",
   "execution_count": 7,
   "metadata": {},
   "outputs": [
    {
     "name": "stdout",
     "output_type": "stream",
     "text": [
      "{'color': 'white', 'power': 460, 'owner': 'sarah'}\n"
     ]
    }
   ],
   "source": [
    "car_0={\n",
    "    'color':'white',\n",
    "    'power':460,\n",
    "    'owner':'sarah',#可以写逗号\n",
    "}\n",
    "print(car_0)"
   ]
  },
  {
   "cell_type": "markdown",
   "metadata": {},
   "source": [
    "### 遍历字典"
   ]
  },
  {
   "cell_type": "code",
   "execution_count": 10,
   "metadata": {},
   "outputs": [
    {
     "name": "stdout",
     "output_type": "stream",
     "text": [
      "color:white\n",
      "\n",
      "power:460\n",
      "\n",
      "owner:sarah\n",
      "\n"
     ]
    }
   ],
   "source": [
    "car_0={\n",
    "    'color':'white',\n",
    "    'power':460,\n",
    "    'owner':'sarah'\n",
    "}\n",
    "for key,value in car_0.items(): # items方法返回一个键-值对列表\n",
    "    print(key+':'+str(value)+'\\n')"
   ]
  },
  {
   "cell_type": "markdown",
   "metadata": {},
   "source": [
    "遍历所有键"
   ]
  },
  {
   "cell_type": "code",
   "execution_count": 12,
   "metadata": {},
   "outputs": [
    {
     "name": "stdout",
     "output_type": "stream",
     "text": [
      "key:color\n",
      "Value:white\n",
      "\n",
      "\n",
      "key:power\n",
      "Value:460\n",
      "\n",
      "\n",
      "key:owner\n",
      "Value:sarah\n",
      "\n",
      "\n"
     ]
    }
   ],
   "source": [
    "for key in car_0.keys():\n",
    "    print(\"key:\"+key+'\\n'+'Value:'+str(car_0[key])+'\\n\\n')"
   ]
  },
  {
   "cell_type": "code",
   "execution_count": 15,
   "metadata": {},
   "outputs": [
    {
     "name": "stdout",
     "output_type": "stream",
     "text": [
      "dict_values(['white', 460, 'sarah'])\n"
     ]
    }
   ],
   "source": [
    "print(car_0.values())"
   ]
  },
  {
   "cell_type": "markdown",
   "metadata": {},
   "source": [
    "按顺序遍历所有键"
   ]
  },
  {
   "cell_type": "code",
   "execution_count": 20,
   "metadata": {},
   "outputs": [
    {
     "name": "stdout",
     "output_type": "stream",
     "text": [
      "key:color\n",
      "Value:white\n",
      "\n",
      "\n",
      "key:owner\n",
      "Value:sarah\n",
      "\n",
      "\n",
      "key:power\n",
      "Value:460\n",
      "\n",
      "\n"
     ]
    }
   ],
   "source": [
    "for key in sorted(car_0.keys()):\n",
    "    print(\"key:\"+key+'\\n'+'Value:'+str(car_0[key])+'\\n\\n')"
   ]
  },
  {
   "cell_type": "markdown",
   "metadata": {},
   "source": [
    "遍历所有值"
   ]
  },
  {
   "cell_type": "code",
   "execution_count": 2,
   "metadata": {},
   "outputs": [
    {
     "name": "stdout",
     "output_type": "stream",
     "text": [
      "white\n",
      "460\n",
      "sarah\n"
     ]
    }
   ],
   "source": [
    "car_0={\n",
    "    'color':'white',\n",
    "    'power':460,\n",
    "    'owner':'sarah'\n",
    "}\n",
    "for value in car_0.values():\n",
    "    print(str(value))"
   ]
  },
  {
   "cell_type": "code",
   "execution_count": 3,
   "metadata": {},
   "outputs": [
    {
     "name": "stdout",
     "output_type": "stream",
     "text": [
      "18\n",
      "19\n",
      "18\n",
      "19\n",
      "20\n",
      "17\n"
     ]
    }
   ],
   "source": [
    "name_age={\n",
    "    'Tom':18,\n",
    "    'John':19,\n",
    "    'Sarah':18,\n",
    "    'Jen':19,\n",
    "    'Phil':20,\n",
    "    'Edward':17,\n",
    "}\n",
    "for v in name_age.values():\n",
    "    print(v)"
   ]
  },
  {
   "cell_type": "markdown",
   "metadata": {},
   "source": [
    "可以看到输出中有许多重复的值"
   ]
  },
  {
   "cell_type": "code",
   "execution_count": 5,
   "metadata": {},
   "outputs": [
    {
     "name": "stdout",
     "output_type": "stream",
     "text": [
      "17\n",
      "18\n",
      "19\n",
      "20\n"
     ]
    }
   ],
   "source": [
    "for v in set(name_age.values()): # 创建集合\n",
    "    print(v)"
   ]
  },
  {
   "cell_type": "markdown",
   "metadata": {},
   "source": [
    "通过集合创建独一无二的元素组"
   ]
  },
  {
   "cell_type": "code",
   "execution_count": 6,
   "metadata": {},
   "outputs": [
    {
     "data": {
      "text/plain": [
       "6"
      ]
     },
     "execution_count": 6,
     "metadata": {},
     "output_type": "execute_result"
    }
   ],
   "source": [
    "len(name_age) # 获得长度"
   ]
  },
  {
   "cell_type": "markdown",
   "metadata": {},
   "source": [
    "### 嵌套"
   ]
  },
  {
   "cell_type": "code",
   "execution_count": 8,
   "metadata": {},
   "outputs": [
    {
     "name": "stdout",
     "output_type": "stream",
     "text": [
      "{'color': 'green', 'points': 5, 'speed': 'slow'}\n",
      "{'color': 'yellow', 'points': 10, 'speed': 'medium'}\n",
      "{'color': 'green', 'points': 5, 'speed': 'slow'}\n",
      "{'color': 'yellow', 'points': 10, 'speed': 'medium'}\n",
      "{'color': 'green', 'points': 5, 'speed': 'slow'}\n"
     ]
    }
   ],
   "source": [
    "aliens = []\n",
    "for i in range(0,30):\n",
    "    if i%2==0:\n",
    "        aliens.append({'color':'green','points':5,'speed':'slow'})\n",
    "    else:\n",
    "        aliens.append({'color':'yellow','points':10,'speed':'medium'})\n",
    "for alien in aliens[:5]:\n",
    "    print(alien)"
   ]
  },
  {
   "cell_type": "markdown",
   "metadata": {},
   "source": [
    "在字典中存储列表"
   ]
  },
  {
   "cell_type": "code",
   "execution_count": 9,
   "metadata": {},
   "outputs": [],
   "source": [
    "pizza = {\n",
    "    'crust':'thick',\n",
    "    'toppings':['mushrooms','extra cheese'],\n",
    "}#超级像Json"
   ]
  },
  {
   "cell_type": "markdown",
   "metadata": {},
   "source": [
    "在字典中也可以存储字典"
   ]
  },
  {
   "cell_type": "markdown",
   "metadata": {},
   "source": [
    "## 用户输入和while循环"
   ]
  },
  {
   "cell_type": "markdown",
   "metadata": {},
   "source": [
    "### input()的工作原理"
   ]
  },
  {
   "cell_type": "code",
   "execution_count": 1,
   "metadata": {},
   "outputs": [
    {
     "name": "stdout",
     "output_type": "stream",
     "text": [
      "What's your name? Input: Sarah\n",
      "Hello,Sarah\n"
     ]
    }
   ],
   "source": [
    "name=input(\"What's your name? Input: \")#参数为提示信息，注意在冒号后加一个空格\n",
    "print('Hello,'+name)"
   ]
  },
  {
   "cell_type": "markdown",
   "metadata": {},
   "source": [
    "输入一定为字符串，输入的数字需要转换"
   ]
  },
  {
   "cell_type": "code",
   "execution_count": 4,
   "metadata": {},
   "outputs": [
    {
     "name": "stdout",
     "output_type": "stream",
     "text": [
      "How old are you? 21\n",
      "You are so young\n"
     ]
    }
   ],
   "source": [
    "age=input('How old are you? ')\n",
    "age=int(age)\n",
    "if age<25:\n",
    "    print('You are so young')"
   ]
  },
  {
   "cell_type": "code",
   "execution_count": null,
   "metadata": {},
   "outputs": [],
   "source": [
    "#也可以这么写\n",
    "age=int(input('How old are you? '))\n",
    "#python2.7使用raw_input()"
   ]
  },
  {
   "cell_type": "markdown",
   "metadata": {},
   "source": [
    "### while循环"
   ]
  },
  {
   "cell_type": "code",
   "execution_count": 5,
   "metadata": {},
   "outputs": [
    {
     "name": "stdout",
     "output_type": "stream",
     "text": [
      "1\n",
      "2\n",
      "3\n",
      "4\n",
      "5\n"
     ]
    }
   ],
   "source": [
    "i=1\n",
    "while i<=5:\n",
    "    print(i)\n",
    "    i+=1"
   ]
  },
  {
   "cell_type": "markdown",
   "metadata": {},
   "source": [
    "使用标志"
   ]
  },
  {
   "cell_type": "code",
   "execution_count": 9,
   "metadata": {},
   "outputs": [
    {
     "name": "stdout",
     "output_type": "stream",
     "text": [
      "Input 'quit' to quit: no\n",
      "MENU:\n",
      "\ta\n",
      "\tb\n",
      "\tblabla\n",
      "Input 'quit' to quit: quit\n",
      "quit scussfully\n"
     ]
    }
   ],
   "source": [
    "active = True\n",
    "while active:\n",
    "    if input(\"Input 'quit' to quit: \")=='quit':\n",
    "        active = False\n",
    "    else:\n",
    "        print('MENU:\\n\\ta\\n\\tb\\n\\tblabla')\n",
    "print(\"quit scussfully\")"
   ]
  },
  {
   "cell_type": "markdown",
   "metadata": {},
   "source": [
    "使用break"
   ]
  },
  {
   "cell_type": "code",
   "execution_count": 11,
   "metadata": {},
   "outputs": [
    {
     "name": "stdout",
     "output_type": "stream",
     "text": [
      "Input 'quit' to quit: no\n",
      "MENU:\n",
      "\ta\n",
      "\tb\n",
      "\tblabla\n",
      "Input 'quit' to quit: sorry\n",
      "MENU:\n",
      "\ta\n",
      "\tb\n",
      "\tblabla\n",
      "Input 'quit' to quit: quit\n",
      "quit scussfully\n"
     ]
    }
   ],
   "source": [
    "while True:\n",
    "    if input(\"Input 'quit' to quit: \")=='quit':\n",
    "        break\n",
    "    else:\n",
    "        print('MENU:\\n\\ta\\n\\tb\\n\\tblabla')\n",
    "print(\"quit scussfully\")"
   ]
  },
  {
   "cell_type": "markdown",
   "metadata": {},
   "source": [
    "使用continue"
   ]
  },
  {
   "cell_type": "code",
   "execution_count": 12,
   "metadata": {},
   "outputs": [
    {
     "name": "stdout",
     "output_type": "stream",
     "text": [
      "1\n",
      "3\n",
      "5\n",
      "7\n",
      "9\n"
     ]
    }
   ],
   "source": [
    "i=0\n",
    "while i<10:\n",
    "    i+=1\n",
    "    if i%2==0:\n",
    "        continue\n",
    "    print(i)"
   ]
  },
  {
   "cell_type": "markdown",
   "metadata": {},
   "source": [
    "### 使用while循环来处理列表和字典"
   ]
  },
  {
   "cell_type": "markdown",
   "metadata": {},
   "source": [
    "移动元素"
   ]
  },
  {
   "cell_type": "code",
   "execution_count": 1,
   "metadata": {},
   "outputs": [
    {
     "name": "stdout",
     "output_type": "stream",
     "text": [
      "验证Candace中\n",
      "输入y通过验证\n",
      "n\n",
      "验证Brian中\n",
      "输入y通过验证\n",
      "y\n",
      "验证Alice中\n",
      "输入y通过验证\n",
      "y\n",
      "\n",
      "通过验证的用户:\n",
      "\tBrian\n",
      "\tAlice\n"
     ]
    }
   ],
   "source": [
    "#验证用户\n",
    "uu=['alice','brian','candace']\n",
    "cu=[]\n",
    "while uu:\n",
    "    nu=uu.pop()\n",
    "    print('验证'+nu.title()+'中')\n",
    "    print('输入y通过验证')\n",
    "    if input()=='y':\n",
    "        cu.append(nu)\n",
    "\n",
    "print('\\n通过验证的用户:')\n",
    "for u in cu:\n",
    "    print('\\t'+u.title())"
   ]
  },
  {
   "cell_type": "markdown",
   "metadata": {},
   "source": [
    "从列表中删除所有特定值"
   ]
  },
  {
   "cell_type": "code",
   "execution_count": 2,
   "metadata": {
    "scrolled": true
   },
   "outputs": [
    {
     "name": "stdout",
     "output_type": "stream",
     "text": [
      "['a', 'c', 'v', 'a', 'a']\n",
      "['c', 'v']\n"
     ]
    }
   ],
   "source": [
    "list1=['a','c','v','a','a']\n",
    "print(list1)\n",
    "\n",
    "while 'a' in list1:\n",
    "    list1.remove('a')\n",
    "    \n",
    "print(list1)"
   ]
  },
  {
   "cell_type": "markdown",
   "metadata": {},
   "source": [
    "使用用户输入来填充字典"
   ]
  },
  {
   "cell_type": "code",
   "execution_count": 2,
   "metadata": {},
   "outputs": [
    {
     "name": "stdout",
     "output_type": "stream",
     "text": [
      "\n",
      "你的名字： 汪灿\n",
      "你喜欢什么: 健身\n",
      "是否还有其他受调查者？ (yes/no)yes\n",
      "\n",
      "你的名字： 胡润宇\n",
      "你喜欢什么: LOL\n",
      "是否还有其他受调查者？ (yes/no)no\n",
      "\n",
      "----调查结果----\n",
      "汪灿喜欢健身。\n",
      "胡润宇喜欢LOL。\n"
     ]
    }
   ],
   "source": [
    "ans={}\n",
    "\n",
    "while True:\n",
    "    name=input(\"\\n你的名字： \")\n",
    "    likes=input(\"你喜欢什么: \")\n",
    "    \n",
    "    ans[name]=likes\n",
    "    \n",
    "    if input(\"是否还有其他受调查者？ (yes/no)\")=='no':\n",
    "        break\n",
    "\n",
    "print(\"\\n----调查结果----\")\n",
    "for name,likes in ans.items():\n",
    "    print(name+\"喜欢\"+likes+\"。\")\n"
   ]
  },
  {
   "cell_type": "markdown",
   "metadata": {},
   "source": [
    "## 函数"
   ]
  },
  {
   "cell_type": "markdown",
   "metadata": {},
   "source": [
    "### 定义函数"
   ]
  },
  {
   "cell_type": "code",
   "execution_count": 5,
   "metadata": {},
   "outputs": [
    {
     "name": "stdout",
     "output_type": "stream",
     "text": [
      "Hello\n"
     ]
    }
   ],
   "source": [
    "def print_hello(): #定义一个函数\n",
    "    \"\"\"这里写函数的使用方法\"\"\"\n",
    "    print(\"Hello\")\n",
    "\n",
    "print_hello() #调用函数"
   ]
  },
  {
   "cell_type": "code",
   "execution_count": 7,
   "metadata": {},
   "outputs": [
    {
     "name": "stdout",
     "output_type": "stream",
     "text": [
      "Hello,Tom\n"
     ]
    }
   ],
   "source": [
    "def greet(name):#name为行参\n",
    "    \"\"\"显示简单的问候语\"\"\"\n",
    "    print(\"Hello,\"+name)\n",
    "\n",
    "greet('Tom')#'Tom'为实参"
   ]
  },
  {
   "cell_type": "markdown",
   "metadata": {},
   "source": [
    "### 传递实参"
   ]
  },
  {
   "cell_type": "markdown",
   "metadata": {},
   "source": [
    "位置实参"
   ]
  },
  {
   "cell_type": "code",
   "execution_count": 12,
   "metadata": {},
   "outputs": [
    {
     "name": "stdout",
     "output_type": "stream",
     "text": [
      "243\n"
     ]
    }
   ],
   "source": [
    "def pow(n,i):\n",
    "    re=1\n",
    "    while i>0:\n",
    "        re*=n\n",
    "        i-=1\n",
    "    print(re)\n",
    "\n",
    "pow(3,5)"
   ]
  },
  {
   "cell_type": "markdown",
   "metadata": {},
   "source": [
    "关键字实参"
   ]
  },
  {
   "cell_type": "code",
   "execution_count": 14,
   "metadata": {},
   "outputs": [
    {
     "name": "stdout",
     "output_type": "stream",
     "text": [
      "Tom is 20 years old.\n",
      "Sarah is 22 years old.\n"
     ]
    }
   ],
   "source": [
    "def description(name,age):\n",
    "    print(name.title()+' is '+str(age)+' years old.')\n",
    "\n",
    "description('Tom',20)\n",
    "description(age=22,name='sarah')#关键字实参"
   ]
  },
  {
   "cell_type": "code",
   "execution_count": 16,
   "metadata": {},
   "outputs": [
    {
     "name": "stdout",
     "output_type": "stream",
     "text": [
      "I have a dog.\n",
      "My dog's name is Willie\n",
      "I have a dog.\n",
      "My dog's name is Jelly\n"
     ]
    }
   ],
   "source": [
    "def describe_pet(name,type='dog'):#设定type的默认值为dog\n",
    "    \"\"\"显示宠物的信息\"\"\"\n",
    "    print('I have a '+type+'.')\n",
    "    print('My '+type+\"'s name is \"+name.title())\n",
    "describe_pet(name='willie')\n",
    "describe_pet('jelly')"
   ]
  },
  {
   "cell_type": "markdown",
   "metadata": {},
   "source": [
    "### 返回值"
   ]
  },
  {
   "cell_type": "code",
   "execution_count": 17,
   "metadata": {},
   "outputs": [
    {
     "name": "stdout",
     "output_type": "stream",
     "text": [
      "Hello,World!\n"
     ]
    }
   ],
   "source": [
    "def strcat(str1,str2):\n",
    "    return str1+str2#使用return返回值\n",
    "\n",
    "print(strcat(\"Hello,\",\"World!\"))"
   ]
  },
  {
   "cell_type": "markdown",
   "metadata": {},
   "source": [
    "让参数变成可选"
   ]
  },
  {
   "cell_type": "code",
   "execution_count": 1,
   "metadata": {},
   "outputs": [],
   "source": [
    "def get_formatted_name(first,last,middle=''):\n",
    "    if middle:\n",
    "        full_name=first+' '+middle+' '+last\n",
    "    else:\n",
    "        full_name=first+' '+last\n",
    "    return full_name.title()"
   ]
  },
  {
   "cell_type": "markdown",
   "metadata": {},
   "source": [
    "### 传递列表"
   ]
  },
  {
   "cell_type": "code",
   "execution_count": 2,
   "metadata": {},
   "outputs": [
    {
     "name": "stdout",
     "output_type": "stream",
     "text": [
      "Hello, Hannah!\n",
      "Hello, Ty!\n",
      "Hello, Margot!\n"
     ]
    }
   ],
   "source": [
    "def greet_users(names):\n",
    "    for name in names:\n",
    "        print(\"Hello, \"+name.title()+\"!\")\n",
    "\n",
    "usernames=['hannah','ty','margot']\n",
    "greet_users(usernames)"
   ]
  },
  {
   "cell_type": "markdown",
   "metadata": {},
   "source": [
    "函数中可以修改列表"
   ]
  },
  {
   "cell_type": "code",
   "execution_count": 7,
   "metadata": {},
   "outputs": [
    {
     "name": "stdout",
     "output_type": "stream",
     "text": [
      "[1, 2]\n",
      "[3]\n"
     ]
    }
   ],
   "source": [
    "def move_list(sou,des):\n",
    "    des.append(sou.pop())\n",
    "\n",
    "a=[1,2,3]\n",
    "b=[]\n",
    "move_list(a,b)\n",
    "print(a)\n",
    "print(b)"
   ]
  },
  {
   "cell_type": "markdown",
   "metadata": {},
   "source": [
    "禁止函数修改列表"
   ]
  },
  {
   "cell_type": "code",
   "execution_count": 8,
   "metadata": {},
   "outputs": [
    {
     "name": "stdout",
     "output_type": "stream",
     "text": [
      "[1, 2, 3]\n",
      "[]\n"
     ]
    }
   ],
   "source": [
    "def move_list(sou,des):\n",
    "    des.append(sou.pop())\n",
    "\n",
    "a=[1,2,3]\n",
    "b=[]\n",
    "move_list(a[:],b[:])#通过切片阻止修改\n",
    "print(a)\n",
    "print(b)"
   ]
  },
  {
   "cell_type": "markdown",
   "metadata": {},
   "source": [
    "### 传递任意数量实参"
   ]
  },
  {
   "cell_type": "code",
   "execution_count": 9,
   "metadata": {},
   "outputs": [
    {
     "name": "stdout",
     "output_type": "stream",
     "text": [
      "('Hello', 'World', '!')\n"
     ]
    }
   ],
   "source": [
    "def foo(*para):#创建元组\n",
    "    print(para)\n",
    "\n",
    "foo('Hello','World','!')"
   ]
  },
  {
   "cell_type": "markdown",
   "metadata": {},
   "source": [
    "\\*使python创建一个元组，并将参数存入"
   ]
  },
  {
   "cell_type": "markdown",
   "metadata": {},
   "source": [
    "接受任意数量位置参数"
   ]
  },
  {
   "cell_type": "code",
   "execution_count": 8,
   "metadata": {},
   "outputs": [
    {
     "name": "stdout",
     "output_type": "stream",
     "text": [
      "你好,我是tom，年龄为21\n"
     ]
    }
   ],
   "source": [
    "def printf(str1,*rep):\n",
    "    \"\"\"将字符串中的{0},{1}等依次替换\"\"\"\n",
    "    for i in range(0,len(rep)):\n",
    "        str1=str1.replace('{'+str(i)+'}',str(rep[i]))\n",
    "    print(str1)\n",
    "\n",
    "printf(\"你好,我是{0}，年龄为{1}\",\"tom\",21)"
   ]
  },
  {
   "cell_type": "markdown",
   "metadata": {},
   "source": [
    "接受任意数量关键字参数"
   ]
  },
  {
   "cell_type": "code",
   "execution_count": 10,
   "metadata": {},
   "outputs": [
    {
     "name": "stdout",
     "output_type": "stream",
     "text": [
      "{'age': 18, 'location': '武汉', 'name': 'Tom'}\n"
     ]
    }
   ],
   "source": [
    "def print_message(name,**info):#创建字典\n",
    "    message=info\n",
    "    message['name']=name\n",
    "    print(message)\n",
    "\n",
    "print_message('Tom',age=18, location='武汉')\n"
   ]
  },
  {
   "cell_type": "markdown",
   "metadata": {},
   "source": [
    "### 将函数存储在模块中"
   ]
  },
  {
   "cell_type": "code",
   "execution_count": 12,
   "metadata": {},
   "outputs": [
    {
     "name": "stdout",
     "output_type": "stream",
     "text": [
      "Sum = \n",
      " [[ 6.  8.]\n",
      " [10. 12.]]\n",
      "Difference = \n",
      " [[-4. -4.]\n",
      " [-4. -4.]]\n",
      "Product = \n",
      " [[ 5. 12.]\n",
      " [21. 32.]]\n",
      "Quotient = \n",
      " [[0.2        0.33333333]\n",
      " [0.42857143 0.5       ]]\n"
     ]
    }
   ],
   "source": [
    "import numpy as np #直接导入模块\n",
    "a = np.array([[1.0, 2.0], [3.0, 4.0]]) \n",
    "b = np.array([[5.0, 6.0], [7.0, 8.0]]) \n",
    "sum = a + b \n",
    "difference = a - b \n",
    "product = a * b \n",
    "quotient = a / b \n",
    "print (\"Sum = \\n\", sum)\n",
    "print (\"Difference = \\n\", difference )\n",
    "print (\"Product = \\n\", product )\n",
    "print (\"Quotient = \\n\", quotient )"
   ]
  },
  {
   "cell_type": "code",
   "execution_count": 4,
   "metadata": {},
   "outputs": [
    {
     "name": "stdout",
     "output_type": "stream",
     "text": [
      "-0.32438948036570586\n"
     ]
    },
    {
     "data": {
      "text/plain": [
       "array([0.66795368, 0.771075  , 0.42334449, 0.18891722, 0.21044395])"
      ]
     },
     "execution_count": 4,
     "metadata": {},
     "output_type": "execute_result"
    }
   ],
   "source": [
    "from numpy.random import randn,random #导入模块中特定函数\n",
    "i=randn()\n",
    "print(i)\n",
    "random((5))"
   ]
  },
  {
   "cell_type": "markdown",
   "metadata": {},
   "source": [
    "设置别名"
   ]
  },
  {
   "cell_type": "code",
   "execution_count": 5,
   "metadata": {},
   "outputs": [
    {
     "data": {
      "text/plain": [
       "0.6253118013738759"
      ]
     },
     "execution_count": 5,
     "metadata": {},
     "output_type": "execute_result"
    }
   ],
   "source": [
    "from numpy.random import randn as rn\n",
    "rn()"
   ]
  },
  {
   "cell_type": "markdown",
   "metadata": {},
   "source": [
    "导入所有函数"
   ]
  },
  {
   "cell_type": "code",
   "execution_count": null,
   "metadata": {},
   "outputs": [],
   "source": [
    "from numpy.random import *"
   ]
  },
  {
   "cell_type": "markdown",
   "metadata": {},
   "source": [
    "最好不要使用这种方式"
   ]
  },
  {
   "cell_type": "markdown",
   "metadata": {},
   "source": [
    "## 类"
   ]
  },
  {
   "cell_type": "markdown",
   "metadata": {},
   "source": [
    "面向对象编程"
   ]
  },
  {
   "cell_type": "markdown",
   "metadata": {},
   "source": [
    "### 创建类"
   ]
  },
  {
   "cell_type": "code",
   "execution_count": 7,
   "metadata": {},
   "outputs": [],
   "source": [
    "class Dog():\n",
    "    \"\"\"一次模拟小狗的尝试\"\"\"\n",
    "    \n",
    "    def __init__(self,name,age): #创建实例时自动运行，自动传入指向实例本身的引用self\n",
    "        \"\"\"初始化name和age\"\"\"    #调用只需两个参数\n",
    "        self.name=name\n",
    "        self.age=age\n",
    "    \n",
    "    def sit(self):\n",
    "        print(self.name.title()+\" is sitting\")\n",
    "    \n",
    "    def roll(self):\n",
    "        print(self.name.title()+\" rolled over! \")"
   ]
  },
  {
   "cell_type": "markdown",
   "metadata": {},
   "source": [
    "**创建实例**"
   ]
  },
  {
   "cell_type": "code",
   "execution_count": 8,
   "metadata": {},
   "outputs": [
    {
     "name": "stdout",
     "output_type": "stream",
     "text": [
      "willie\n",
      "6\n",
      "Willie is sitting\n"
     ]
    }
   ],
   "source": [
    "my_dog=Dog('willie',6)\n",
    "\n",
    "print(my_dog.name)\n",
    "print(str(my_dog.age))\n",
    "\n",
    "my_dog.sit()"
   ]
  },
  {
   "cell_type": "markdown",
   "metadata": {},
   "source": [
    "### 使用类和实例"
   ]
  },
  {
   "cell_type": "code",
   "execution_count": 3,
   "metadata": {},
   "outputs": [
    {
     "name": "stdout",
     "output_type": "stream",
     "text": [
      "2016 Audi A4\n"
     ]
    }
   ],
   "source": [
    "class Car():\n",
    "    \"\"\"Just try\"\"\"\n",
    "    \n",
    "    def __init__(self,make,model,year):\n",
    "        self.make=make\n",
    "        self.model=model\n",
    "        self.year=year\n",
    "    \n",
    "    def get_descriptive_name(self):\n",
    "        long_name=str(self.year)+' '+self.make+\" \"+self.model\n",
    "        return long_name.title()\n",
    "    \n",
    "my_new_car=Car('audi','a4',2016)\n",
    "print(my_new_car.get_descriptive_name())"
   ]
  },
  {
   "cell_type": "markdown",
   "metadata": {},
   "source": [
    "设置属性的默认值\n",
    "在 `__init__()` 中设置`self.member=value` "
   ]
  },
  {
   "cell_type": "markdown",
   "metadata": {},
   "source": [
    "修改属性的值\n",
    "1. 直接修改\n",
    "2. 通过方法"
   ]
  },
  {
   "cell_type": "code",
   "execution_count": 4,
   "metadata": {},
   "outputs": [
    {
     "name": "stdout",
     "output_type": "stream",
     "text": [
      "2017 Audi A4\n"
     ]
    }
   ],
   "source": [
    "my_new_car.year=2017 #通过.来修改\n",
    "print(my_new_car.get_descriptive_name())"
   ]
  },
  {
   "cell_type": "code",
   "execution_count": 6,
   "metadata": {},
   "outputs": [
    {
     "name": "stdout",
     "output_type": "stream",
     "text": [
      "2016 Audi A4\n",
      "2018 Audi A4\n"
     ]
    }
   ],
   "source": [
    "class Car():\n",
    "    \"\"\"Just try\"\"\"\n",
    "    \n",
    "    def __init__(self,make,model,year):\n",
    "        self.make=make\n",
    "        self.model=model\n",
    "        self.year=year\n",
    "    \n",
    "    def get_descriptive_name(self):\n",
    "        long_name=str(self.year)+' '+self.make+\" \"+self.model\n",
    "        return long_name.title()\n",
    "    \n",
    "    def set_year(self,year): #修改属性的函数\n",
    "        self.year=year\n",
    "\n",
    "my_new_car=Car('audi','a4',2016)\n",
    "print(my_new_car.get_descriptive_name())\n",
    "my_new_car.set_year(2018) #调用修改属性的方法\n",
    "print(my_new_car.get_descriptive_name())"
   ]
  },
  {
   "cell_type": "markdown",
   "metadata": {},
   "source": [
    " ### 继承"
   ]
  },
  {
   "cell_type": "code",
   "execution_count": 19,
   "metadata": {},
   "outputs": [
    {
     "name": "stdout",
     "output_type": "stream",
     "text": [
      "2016 Tesla Model S\n",
      "This car has a 40kWh battery.\n"
     ]
    }
   ],
   "source": [
    "class Car():\n",
    "    \"\"\"Just try\"\"\"\n",
    "    \n",
    "    def __init__(self,make,model,year):\n",
    "        self.make=make\n",
    "        self.model=model\n",
    "        self.year=year\n",
    "        self.odometer_reading=0\n",
    "    \n",
    "    def get_descriptive_name(self):\n",
    "        long_name=str(self.year)+' '+self.make+\" \"+self.model\n",
    "        return long_name.title()\n",
    "    \n",
    "    def read_odometer(self):\n",
    "        print('This car has '+str(self.odometer_reading)+ \"miles on it.\")\n",
    "    \n",
    "    def update_odometer(self, mileage):\n",
    "        if mileage >=self.odometer_reading:\n",
    "            self.odometer_reading = mileage\n",
    "        else:\n",
    "            print(\"You can't roll back an odometer!\")\n",
    "    \n",
    "    def increment_odometer(self, miles):\n",
    "        self.odometer_reading += miles\n",
    "\n",
    "class ElectricCar(Car): #将父类填到括号中来继承\n",
    "    \n",
    "    def __init__(self, make, model, year):\n",
    "        self.battery_size = 40\n",
    "        super().__init__(make, model,year)\n",
    "        \n",
    "        \n",
    "    def describe_battery(self):\n",
    "        print(\"This car has a \"+str(self.battery_size) +\"kWh battery.\")\n",
    "    \n",
    "my_tesla=ElectricCar('tesla','model s', 2016)\n",
    "print(my_tesla.get_descriptive_name())\n",
    "my_tesla.describe_battery()"
   ]
  },
  {
   "cell_type": "markdown",
   "metadata": {},
   "source": [
    "**重写父类方法**"
   ]
  },
  {
   "cell_type": "code",
   "execution_count": 30,
   "metadata": {},
   "outputs": [
    {
     "name": "stdout",
     "output_type": "stream",
     "text": [
      "2016 Tesla Model S with 70kWh battery\n"
     ]
    }
   ],
   "source": [
    "class ElectricCar(Car): \n",
    "    \n",
    "    def __init__(self, make, model, year):\n",
    "        self.battery_size = 70\n",
    "        super().__init__(make, model,year)\n",
    "        \n",
    "        \n",
    "    def describe_battery(self):\n",
    "        print(\"This car has a \"+str(self.battery_size) +\"kWh battery.\")\n",
    "        \n",
    "    def get_descriptive_name(self): #重写父类的方法\n",
    "       \n",
    "        return super().get_descriptive_name()+\" with \"+str(self.battery_size)+\"kWh battery\" #这里调用了父类的方法\n",
    "    \n",
    "my_tesla=ElectricCar('tesla','model s', 2016)\n",
    "print(my_tesla.get_descriptive_name())"
   ]
  },
  {
   "cell_type": "markdown",
   "metadata": {},
   "source": [
    "### 导入类"
   ]
  },
  {
   "cell_type": "code",
   "execution_count": 4,
   "metadata": {},
   "outputs": [
    {
     "name": "stdout",
     "output_type": "stream",
     "text": [
      "[[1 2]\n",
      " [3 4]]\n",
      "<class 'numpy.ndarray'>\n",
      "int32\n",
      "4\n",
      "(2, 2)\n",
      "4\n",
      "2\n",
      "16\n"
     ]
    }
   ],
   "source": [
    "from numpy import array\n",
    "a=array([[1,2],[3,4]])\n",
    "print(a)\n",
    "print(type(a)) \n",
    "print(a.dtype)\n",
    "print(a.size) \n",
    "print(a.shape) \n",
    "print(a.itemsize)\n",
    "print(a.ndim) \n",
    "print(a.nbytes)"
   ]
  },
  {
   "cell_type": "markdown",
   "metadata": {},
   "source": [
    "**其他导入方法**"
   ]
  },
  {
   "cell_type": "code",
   "execution_count": 11,
   "metadata": {},
   "outputs": [],
   "source": [
    "from numpy import array, matrix #引入多个类"
   ]
  },
  {
   "cell_type": "code",
   "execution_count": 13,
   "metadata": {},
   "outputs": [],
   "source": [
    "import numpy #直接引入模块"
   ]
  },
  {
   "cell_type": "markdown",
   "metadata": {},
   "source": [
    "### Python 标准库"
   ]
  },
  {
   "cell_type": "markdown",
   "metadata": {},
   "source": [
    "python标准库时一组模组"
   ]
  },
  {
   "cell_type": "markdown",
   "metadata": {},
   "source": [
    "### 类编码风格"
   ]
  },
  {
   "cell_type": "markdown",
   "metadata": {},
   "source": [
    "类名采用**驼峰命名法**，即首字母大写，不用下划线\n",
    "实例名和模块名都用小写，并加上下划线\n",
    "每个类都要用文档字符串"
   ]
  },
  {
   "cell_type": "markdown",
   "metadata": {},
   "source": [
    "## 文件操作"
   ]
  },
  {
   "cell_type": "markdown",
   "metadata": {},
   "source": [
    "### 从文件中读取数据"
   ]
  },
  {
   "cell_type": "code",
   "execution_count": 1,
   "metadata": {},
   "outputs": [
    {
     "name": "stdout",
     "output_type": "stream",
     "text": [
      "3.1415926535\n",
      "  8979323846\n",
      "  2643383279\n",
      "\n"
     ]
    }
   ],
   "source": [
    "with open('pi_digits.txt') as file_object:\n",
    "    contents = file_object.read()\n",
    "    print(contents)"
   ]
  },
  {
   "cell_type": "markdown",
   "metadata": {},
   "source": [
    "用open()打开文件才能访问\n",
    "with在不需要访问时将其关闭\n",
    "也可以使用close()\n",
    "\n",
    "最后一行是空的，这是文件末尾"
   ]
  },
  {
   "cell_type": "code",
   "execution_count": 1,
   "metadata": {},
   "outputs": [
    {
     "name": "stdout",
     "output_type": "stream",
     "text": [
      "3.1415926535\n",
      "  8979323846\n",
      "  2643383279\n"
     ]
    }
   ],
   "source": [
    "with open('pi_digits.txt') as file_object:\n",
    "    contents = file_object.read()\n",
    "    print(contents.rstrip()) # 去除空行"
   ]
  },
  {
   "cell_type": "code",
   "execution_count": 3,
   "metadata": {},
   "outputs": [
    {
     "name": "stdout",
     "output_type": "stream",
     "text": [
      "#\n",
      "# ~/.bashrc\n",
      "#\n",
      "\n",
      "# If not running interactively, don't do anything\n",
      "[[ $- != *i* ]] && return\n",
      "\n",
      "alias ls='ls --color=auto'\n",
      "alias ps='busybox ps'\n",
      "alias grep='grep --color'\n",
      "# PS1='[\\u@\\h \\W]\\$ '\n",
      "PS1='\\[\\e]0;\\u@\\h: \\w\\a\\]\\[\\033[01;32m\\]\\u@\\h\\[\\033[00m\\]:\\[\\033[01;34m\\]\\w \\$\\[\\033[00m\\] '\n",
      "\n",
      "export $(dbus-launch)\n",
      "export EDITOR=\"/usr/bin/vim\"\n",
      "export QT_AUTO_SCREEN_SCALE_FACTOR=\"0\"\n",
      "export XDG_RUNTIME_DIR=\"/run/user/1000\"\n",
      "\n"
     ]
    }
   ],
   "source": [
    "with open('/home/tom/.bashrc') as bashrc: # 使用绝对路劲\n",
    "    contents=bashrc.read()\n",
    "    print(contents)\n",
    "# windows_path='C:\\Users\\asdfz\\.bashrc'"
   ]
  },
  {
   "cell_type": "markdown",
   "metadata": {},
   "source": [
    "**逐行读取**"
   ]
  },
  {
   "cell_type": "code",
   "execution_count": 9,
   "metadata": {},
   "outputs": [
    {
     "name": "stdout",
     "output_type": "stream",
     "text": [
      "3.1415926535\n",
      "\n",
      "  8979323846\n",
      "\n",
      "  2643383279\n",
      "\n"
     ]
    }
   ],
   "source": [
    "filename='pi_digits.txt'\n",
    "\n",
    "with open(filename) as file_object:\n",
    "    for line in file_object:\n",
    "        print(line)"
   ]
  },
  {
   "cell_type": "markdown",
   "metadata": {},
   "source": [
    "由于每行末尾有换行符，print自动添加换行符，因此有空行"
   ]
  },
  {
   "cell_type": "markdown",
   "metadata": {},
   "source": [
    "**创建列表**"
   ]
  },
  {
   "cell_type": "code",
   "execution_count": 10,
   "metadata": {},
   "outputs": [
    {
     "name": "stdout",
     "output_type": "stream",
     "text": [
      "['3.1415926535\\n', '  8979323846\\n', '  2643383279\\n']\n"
     ]
    }
   ],
   "source": [
    "with open(filename) as file_object:\n",
    "    lines=file_object.readlines()\n",
    "\n",
    "print(lines)"
   ]
  },
  {
   "cell_type": "code",
   "execution_count": 17,
   "metadata": {
    "scrolled": true
   },
   "outputs": [
    {
     "name": "stdout",
     "output_type": "stream",
     "text": [
      "3.141592653589793238462643383279\n",
      "32\n",
      "6.283185307179586\n"
     ]
    }
   ],
   "source": [
    "pi_str=''\n",
    "for line in lines:\n",
    "    pi_str+=line.strip()\n",
    "\n",
    "print(pi_str)\n",
    "print(len(pi_str))\n",
    "pi=float(pi_str)#转换为浮点数\n",
    "pi+=pi\n",
    "print(pi)"
   ]
  },
  {
   "cell_type": "markdown",
   "metadata": {},
   "source": [
    "### 写入文件"
   ]
  },
  {
   "cell_type": "code",
   "execution_count": 2,
   "metadata": {},
   "outputs": [],
   "source": [
    "#写入空文件\n",
    "filename = 'out.txt'\n",
    "with open(filename,'w') as file_object:\n",
    "    file_object.write(\"I love programming.\") #只接受字符串，且不会自动添加换行符\n",
    "    file_object.write(\"\\nI love creating new games.\")"
   ]
  },
  {
   "cell_type": "markdown",
   "metadata": {},
   "source": [
    "open的第二个参数\n",
    "- 'r'读取模式\n",
    "- 'w'写入模式\n",
    "- 'a'附加模式\n",
    "- 'r+'读写模式\n",
    "默认为只读模式\n",
    "使用'w'时请小心，因为会覆盖文件"
   ]
  },
  {
   "cell_type": "code",
   "execution_count": 3,
   "metadata": {},
   "outputs": [],
   "source": [
    "# coding=utf-8\n",
    "with open(filename,'a') as file_object:\n",
    "    file_object.write(\"\\n\")\n",
    "    file_object.write(\"-----attch text-----\\n\")"
   ]
  },
  {
   "cell_type": "markdown",
   "metadata": {},
   "source": [
    "### 分析文本"
   ]
  },
  {
   "cell_type": "code",
   "execution_count": 7,
   "metadata": {},
   "outputs": [
    {
     "name": "stdout",
     "output_type": "stream",
     "text": [
      "The book Pride and Prejudice has 124592 words. \n"
     ]
    }
   ],
   "source": [
    "#with open(\"1342-0.txt\") as file_object:\n",
    "#    contents = file_obj.read()\n",
    "\n",
    "from urllib import request\n",
    "\n",
    "file_path = \"http://www.gutenberg.org/files/1342/1342-0.txt\"\n",
    "contents = request.urlopen(file_path).read().decode('utf8')\n",
    "\n",
    "words = contents.split()\n",
    "num_words = len(words)\n",
    "print(\"The book Pride and Prejudice has \"+str(num_words) + \" words. \")"
   ]
  },
  {
   "cell_type": "markdown",
   "metadata": {},
   "source": [
    "### 存储数据"
   ]
  },
  {
   "cell_type": "markdown",
   "metadata": {},
   "source": [
    "使用**JSON**来保存数据是常见的方式"
   ]
  },
  {
   "cell_type": "code",
   "execution_count": 11,
   "metadata": {},
   "outputs": [
    {
     "name": "stdout",
     "output_type": "stream",
     "text": [
      "{'name': 'tom', 'age': 18, 'pos': [66, 51]}\n"
     ]
    }
   ],
   "source": [
    "import json\n",
    "\n",
    "data={'name':'tom','age':18,'pos':[66,51]}\n",
    "filename = 'num.json'\n",
    "with open(filename,'w') as f_obj:\n",
    "    json.dump(data,f_obj) #写入json文件\n",
    "\n",
    "with open(filename) as f_r:\n",
    "    r_data=json.load(f_r) #读取json文件\n",
    "\n",
    "print(r_data)"
   ]
  },
  {
   "cell_type": "code",
   "execution_count": 3,
   "metadata": {},
   "outputs": [
    {
     "name": "stdout",
     "output_type": "stream",
     "text": [
      "What is your name? Tom\n",
      "We'll remember you when you come back, Tom! \n"
     ]
    }
   ],
   "source": [
    "import json\n",
    "\n",
    "def get_stored_username():\n",
    "    \"\"\"获取存储的用户名\"\"\"\n",
    "    filename='data/username.json'\n",
    "    try:\n",
    "        with open(filename) as fobj:\n",
    "            username = json.load(fobj)\n",
    "    except FileNotFoundError:\n",
    "        return None\n",
    "    else:\n",
    "        return username\n",
    "\n",
    "def greet_user():\n",
    "    \"\"\"问候用户\"\"\"\n",
    "    username = get_stored_username()\n",
    "    if username:\n",
    "        print(\"Welcome back, \"+ username + \"! \")\n",
    "    else:\n",
    "        username = input(\"What is your name? \")\n",
    "        with open('data/username.json','w') as fobj:\n",
    "            json.dump(username,fobj)\n",
    "            print(\"We'll remember you when you come back, \" + username + \"! \")\n",
    "            \n",
    "greet_user()"
   ]
  },
  {
   "cell_type": "markdown",
   "metadata": {},
   "source": [
    "## 异常"
   ]
  },
  {
   "cell_type": "markdown",
   "metadata": {},
   "source": [
    "发生错误时会创建异常对象，如果没有进行处理，程序将停止，并显示一个traceback。\n",
    "处理异常的方式是try-except"
   ]
  },
  {
   "cell_type": "markdown",
   "metadata": {},
   "source": [
    "**ZeroDivisionError**"
   ]
  },
  {
   "cell_type": "code",
   "execution_count": 12,
   "metadata": {},
   "outputs": [
    {
     "ename": "ZeroDivisionError",
     "evalue": "division by zero",
     "output_type": "error",
     "traceback": [
      "\u001b[1;31m---------------------------------------------------------------------------\u001b[0m",
      "\u001b[1;31mZeroDivisionError\u001b[0m                         Traceback (most recent call last)",
      "\u001b[1;32m<ipython-input-12-fad870a50e27>\u001b[0m in \u001b[0;36m<module>\u001b[1;34m\u001b[0m\n\u001b[1;32m----> 1\u001b[1;33m \u001b[0mprint\u001b[0m\u001b[1;33m(\u001b[0m\u001b[1;36m5\u001b[0m\u001b[1;33m/\u001b[0m\u001b[1;36m0\u001b[0m\u001b[1;33m)\u001b[0m\u001b[1;33m\u001b[0m\u001b[1;33m\u001b[0m\u001b[0m\n\u001b[0m",
      "\u001b[1;31mZeroDivisionError\u001b[0m: division by zero"
     ]
    }
   ],
   "source": [
    "print(5/0)"
   ]
  },
  {
   "cell_type": "code",
   "execution_count": 14,
   "metadata": {},
   "outputs": [
    {
     "name": "stdout",
     "output_type": "stream",
     "text": [
      "Error:You can't divide by zero! \n"
     ]
    }
   ],
   "source": [
    "try:\n",
    "    print(5/0)\n",
    "except ZeroDivisionError:\n",
    "    print(\"Error:You can't divide by zero! \")"
   ]
  },
  {
   "cell_type": "code",
   "execution_count": 26,
   "metadata": {},
   "outputs": [
    {
     "name": "stdout",
     "output_type": "stream",
     "text": [
      "\n",
      "First number: 2\n",
      "\n",
      "Second number: 0\n",
      "You can't divide by 0!\n"
     ]
    }
   ],
   "source": [
    "try:\n",
    "    first_number=int(input(\"\\nFirst number: \"))\n",
    "    second_number=int(input(\"\\nSecond number: \"))\n",
    "except ValueError:\n",
    "    print('Please input numbers! ')\n",
    "\n",
    "else:\n",
    "    try:\n",
    "        aswser=first_number/second_number\n",
    "    except ZeroDivisionError:\n",
    "        print(\"You can't divide by 0!\")\n",
    "\n",
    "    else: #如果try成功执行，则会执行else中的代码\n",
    "        print(answer)"
   ]
  },
  {
   "cell_type": "markdown",
   "metadata": {},
   "source": [
    "**FileNotFoundError**"
   ]
  },
  {
   "cell_type": "code",
   "execution_count": 27,
   "metadata": {},
   "outputs": [
    {
     "name": "stdout",
     "output_type": "stream",
     "text": [
      "File not exist! \n"
     ]
    }
   ],
   "source": [
    "filename='hello.txt'\n",
    "\n",
    "try:\n",
    "    with open(filename) as f_obj:\n",
    "        contents=f_obj.read()\n",
    "except FileNotFoundError:\n",
    "    print('File not exist! ')"
   ]
  },
  {
   "cell_type": "markdown",
   "metadata": {},
   "source": [
    "### 在失败时一声不吭"
   ]
  },
  {
   "cell_type": "code",
   "execution_count": 6,
   "metadata": {},
   "outputs": [
    {
     "name": "stdout",
     "output_type": "stream",
     "text": [
      "完成\n"
     ]
    }
   ],
   "source": [
    "try:\n",
    "    with open('hello.txt') as hello:\n",
    "        contents=hello.read()\n",
    "except FileNotFoundError:\n",
    "    pass #直接什么都不做\n",
    "else:\n",
    "    print(\"命令成功执行\")\n",
    "print('完成')"
   ]
  },
  {
   "cell_type": "markdown",
   "metadata": {},
   "source": [
    "## 测试代码"
   ]
  },
  {
   "cell_type": "markdown",
   "metadata": {},
   "source": [
    "### 测试函数"
   ]
  },
  {
   "cell_type": "markdown",
   "metadata": {},
   "source": [
    "Python标准库中的模块unittest提供了代码测试工具。\n",
    "\n",
    "**单元测试**用于核实函数的某个方面没问题。\n",
    "\n",
    "**测试用例**是一组单元测试\n",
    "\n",
    "**全覆盖式测试**包含一整套单元测试，包含各种可能的函数使用方式"
   ]
  },
  {
   "cell_type": "code",
   "execution_count": null,
   "metadata": {},
   "outputs": [],
   "source": [
    "import unittest\n",
    "\n",
    "def get_formatted_name(first,last): #待测试的函数 也可以通过from * import fun_name的方式引入\n",
    "    full_name = first +' ' + last\n",
    "    return full_name.title()\n",
    "\n",
    "class NamesTestCase(unittest.TestCase): #可以随便取名字，但必须继承unittest.TestCase\n",
    "    \"\"\"测试函数\"\"\"\n",
    "    \n",
    "    def test_first_last_name(self): #测试时，所有test_开头的函数会自动运行\n",
    "        formatted_name = get_formatted_name('janis','joplin')\n",
    "        self.assertEqual(formatted_name,'Janis Joplin') #断言方法，进行判断\n",
    "\n",
    "unittest.main() #jupyter平台无法运行\n",
    "#结果为：\n",
    "#.\n",
    "#----------------------------------------------------------------------\n",
    "#Ran 1 test in 0.000s\n",
    "#\n",
    "#OK"
   ]
  },
  {
   "cell_type": "markdown",
   "metadata": {},
   "source": [
    "进行两个测试"
   ]
  },
  {
   "cell_type": "code",
   "execution_count": null,
   "metadata": {},
   "outputs": [],
   "source": [
    "import unittest\n",
    "\n",
    "def get_formatted_name(first,last,middle=''): #待测试的函数 也可以通过from * import fun_name的方式引入\n",
    "    if middle:\n",
    "        full_name=first+' '+middle + ' '+ last\n",
    "    else:\n",
    "        full_name = first +' ' + last\n",
    "    return full_name.title()\n",
    "\n",
    "class NamesTestCase(unittest.TestCase): #可以随便取名字，但必须继承unittest.TestCase\n",
    "    \"\"\"测试函数\"\"\"\n",
    "    \n",
    "    def test_first_last_name(self): #测试时，所有test_开头的函数会自动运行\n",
    "        formatted_name = get_formatted_name('janis','joplin')\n",
    "        self.assertEqual(formatted_name,'Janis Joplin') #断言方法，进行判断\n",
    "    \n",
    "    def test_first_last_middle_name(self):\n",
    "        formatted_name = get_formatted_name('wolfgang','mozart','amadeus')\n",
    "        self.assertEqual(formatted_name,'Wolfgang Amadeus Mozart')\n",
    "\n",
    "unittest.main()"
   ]
  },
  {
   "cell_type": "markdown",
   "metadata": {},
   "source": [
    "### 测试类"
   ]
  },
  {
   "cell_type": "markdown",
   "metadata": {},
   "source": [
    "断言方法\n",
    "\n",
    "|方法|用途\n",
    "|---|---|\n",
    "|assertEqual(a,b)|核实a==b|\n",
    "|assertNotEqual(a,b)|核实a!=b|\n",
    "|assertTrue(x)|核实x为True|\n",
    "|assertFalse(x)|核实x为False|\n",
    "|assertIn(item,list)|核实item在list中|\n",
    "|assertNotIn(item,list)|核实item不在list中|"
   ]
  },
  {
   "cell_type": "code",
   "execution_count": null,
   "metadata": {},
   "outputs": [],
   "source": []
  }
 ],
 "metadata": {
  "kernelspec": {
   "display_name": "Python 3",
   "language": "python",
   "name": "python3"
  },
  "language_info": {
   "codemirror_mode": {
    "name": "ipython",
    "version": 3
   },
   "file_extension": ".py",
   "mimetype": "text/x-python",
   "name": "python",
   "nbconvert_exporter": "python",
   "pygments_lexer": "ipython3",
   "version": "3.7.3"
  },
  "toc": {
   "base_numbering": 1,
   "nav_menu": {
    "height": "381px",
    "width": "279px"
   },
   "number_sections": true,
   "sideBar": true,
   "skip_h1_title": false,
   "title_cell": "Table of Contents",
   "title_sidebar": "Contents",
   "toc_cell": false,
   "toc_position": {},
   "toc_section_display": true,
   "toc_window_display": false
  }
 },
 "nbformat": 4,
 "nbformat_minor": 2
}
